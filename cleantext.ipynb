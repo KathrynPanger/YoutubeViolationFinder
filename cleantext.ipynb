{
 "cells": [
  {
   "cell_type": "code",
   "execution_count": 30,
   "metadata": {},
   "outputs": [],
   "source": [
    "import re\n",
    "from nltk.tokenize.casual import TweetTokenizer\n",
    "import enchant\n",
    "import re\n",
    "t = TweetTokenizer()\n",
    "import emoji\n",
    "import regex\n",
    "import spacy\n",
    "import spacy\n",
    "import nltk\n",
    "from nltk.tag import StanfordNERTagger\n",
    "import os\n",
    "import pandas as pd\n",
    "import probablepeople as pp\n",
    "from nltk.tokenize import sent_tokenize\n",
    "spacy.prefer_gpu()\n",
    "nlp = spacy.load(\"en_core_web_sm\")\n",
    "mystring= \"Ryan Hildreth shows you how to get free $100 paypal gift cards everyday on autopilot! Easy PayPal money!\\n\\nMy #1 Recommendation For Making Money Online: https://www.funnelfromhome.com/earn500\\r\\n\\r\\nIf you don’t know who I am, my name is Ryan Hildreth and I’m a 7 figure digital marketer. I’ve created multiple online businesses beginning in January 2017 that have allowed me to quit my boring 9 to 5 job, have more time to spend with family and friends, travel the world, buy my dream cars, invest in real estate, and marry my dream woman. If any of these things sound like something you’re striving for, then please subscribe to my channel and let me help you reach your destination. Cheers!\\r\\n\\r\\nDisclosure: I am an independent ClickFunnels Affiliate, not an employee. I receive referral payments from ClickFunnels. The opinions expressed here are my own and are not official statements of ClickFunnels or its parent company, Etison LLC.\\r\\n\\r\\n*earnings disclaimer* Ryan Hildreth is a professional marketer and does not guarantee any results. Your results may be more, the same, or less depending on your work ethic, your individual abilities, economic conditions, and your ability to apply the skills you learned. Some of the links above are affiliate links and Ryan will receive a small commission if you use them. You may use a different link if you choose to.5 Reasons WALMARTs Affiliate Program is a JOKE!\\n🔥 #1 Way to Make Money\\nCLICK HERE 👉 https://johncrestani.com/GOAT\\n🤑 Free Access To My Software\\n👉 https://marketingtech.io/agent/\\nWant To Learn How To Make Money?\\n💰 Want To Know How I Made My Money?\\nhttps://JohnCrestani.com/My_Story\\n💰 Learn How To Make from $100-$200 a DAY with my FREE TRAFFIC METHODS Videos:\\nCLICK HERE 👉 https://www.youtube.com/playlist?list=PLH5uPY760sBP_O6vqb7MdvzLDnR_vtSh2\\n\\n😡Are you wondering how to make money with walmart affiliate program? then you NEED to watch this video NOW!. Many companies use and abuse affiliate marketers getting traffic for them and paying lousy commissions. Walmart is one of them and in this video I give you five reasons why I think nobody should give their traffic to Walmart. \\n\\nChapters:\\n00:00 - Why You Need To Watch This Video NOW!\\n00:33 - Reason #1 \\n01:25 - Reason #2\\n01:52 - Reason #3\\n03:01 - Reason #4 \\n04:19 - Reason #5 \\n\\nWhat do you need help with that I can make videos about next? COMMENT BELOW!\\n\\nLet\\'s Connect On Social Media:\\nhttps://johncrestani.com/LINKEDIN\\nhttps://johncrestani.com/INSTAGRAM\\nhttps://johncrestani.com/TWITTER\\nhttps://johncrestani.com/ANGELLIST\\nhttps://johncrestani.com/TWITCH\\nhttps://johncrestani.com/TIKTOK\\n\\nJoin Our Community Groups:\\nhttps://johncrestani.com/DISCORD\\nhttps://johncrestani.com/FACEBOOK\\n\\n\\nThe information contained on this YouTube Channel and the resources available for download/viewing through this YouTube Channel is for educational and informational purposes only.\\u200b\\n\\nDISCLAIMER: This video either has links to my own products or affiliate products so any purchases you make from the links clicked in this video I will earn a commission with it. Results are not typical. I am a professional internet marketer with years of experience and do not guarantee you will achieve the same results.\\n\\nVIDEO EDITING: By http://theblackdogvideo.com\\n\\n🎭 PRESS INQUIRIES CONTACT support@johncrestani.com \\nSubject line must be exactly: Press Inquiry\\n\\n#JohnCrestani #MarketingTechSong: https://www.youtube.com/watch?v=sJIOB...\\n\\n⚠️I do not own any of the music played in this video\\n\\n\\n\\n\\n\\n\\n\\n\\n\\n\\n\\n\\n\\nTags: fortnite,fortnite highlights,fortnite battle royale,highlights,fortnite gameplay,fortnite funny moments,fortnite best moments,twitch highlights,fortnite montage,fortnite compilation,fortnite highlights #1,fortnite new,tfue highlights,fortnite best highlights,lmgk transition,edited like lmgk,edited like numby,edited like clerke,lmgk,fortnite editing,how to edit like numby,how to edit like lmgk,how to edit like clerke,fortnite season 4fortnite item shop,\\nfortnite season 4,\\nfortnite cars,\\nfortnite montage,\\nfortnite song\\nfortnite highlights #1,\\nfortnite highlights with music,\\nfortnite highlights intro,\\nfortnite highlights controller,\\nfortnite highlights montage,\\nfortnite highlights cinematic,\\nfortnite highlights intro cinematic,\\nfortnite highlights lemonade,\\nfortnite highlights #,\\nfortnite highlights arena,\\nfortnite highlights and 😀 funny moments,\\nfortnite highlights after effects,\\nfortnite highlights addison rae,\\nfortnite highlights aqua,\\nfortnite highlights all\""
   ]
  },
  {
   "cell_type": "code",
   "execution_count": 37,
   "metadata": {},
   "outputs": [
    {
     "data": {
      "text/plain": [
       "['Ryan Hildreth shows you how to get free $100 paypal gift cards everyday on autopilot!',\n",
       " 'Easy PayPal money!',\n",
       " 'My #1 Recommendation For Making Money Online: https://www.funnelfromhome.com/earn500\\r\\n\\r\\nIf you don’t know who I am, my name is Ryan Hildreth and I’m a 7 figure digital marketer.',\n",
       " 'I’ve created multiple online businesses beginning in January 2017 that have allowed me to quit my boring 9 to 5 job, have more time to spend with family and friends, travel the world, buy my dream cars, invest in real estate, and marry my dream woman.',\n",
       " 'If any of these things sound like something you’re striving for, then please subscribe to my channel and let me help you reach your destination.',\n",
       " 'Cheers!',\n",
       " 'Disclosure: I am an independent ClickFunnels Affiliate, not an employee.',\n",
       " 'I receive referral payments from ClickFunnels.',\n",
       " 'The opinions expressed here are my own and are not official statements of ClickFunnels or its parent company, Etison LLC.',\n",
       " '*earnings disclaimer* Ryan Hildreth is a professional marketer and does not guarantee any results.',\n",
       " 'Your results may be more, the same, or less depending on your work ethic, your individual abilities, economic conditions, and your ability to apply the skills you learned.',\n",
       " 'Some of the links above are affiliate links and Ryan will receive a small commission if you use them.',\n",
       " 'You may use a different link if you choose to.5 Reasons WALMARTs Affiliate Program is a JOKE!',\n",
       " '🔥 #1 Way to Make Money\\nCLICK HERE 👉 https://johncrestani.com/GOAT\\n🤑 Free Access To My Software\\n👉 https://marketingtech.io/agent/\\nWant To Learn How To Make Money?',\n",
       " '💰 Want To Know How I Made My Money?',\n",
       " 'https://JohnCrestani.com/My_Story\\n💰 Learn How To Make from $100-$200 a DAY with my FREE TRAFFIC METHODS Videos:\\nCLICK HERE 👉 https://www.youtube.com/playlist?list=PLH5uPY760sBP_O6vqb7MdvzLDnR_vtSh2\\n\\n😡Are you wondering how to make money with walmart affiliate program?',\n",
       " 'then you NEED to watch this video NOW!.',\n",
       " 'Many companies use and abuse affiliate marketers getting traffic for them and paying lousy commissions.',\n",
       " 'Walmart is one of them and in this video I give you five reasons why I think nobody should give their traffic to Walmart.',\n",
       " 'Chapters:\\n00:00 - Why You Need To Watch This Video NOW!',\n",
       " '00:33 - Reason #1 \\n01:25 - Reason #2\\n01:52 - Reason #3\\n03:01 - Reason #4 \\n04:19 - Reason #5 \\n\\nWhat do you need help with that I can make videos about next?',\n",
       " 'COMMENT BELOW!',\n",
       " \"Let's Connect On Social Media:\\nhttps://johncrestani.com/LINKEDIN\\nhttps://johncrestani.com/INSTAGRAM\\nhttps://johncrestani.com/TWITTER\\nhttps://johncrestani.com/ANGELLIST\\nhttps://johncrestani.com/TWITCH\\nhttps://johncrestani.com/TIKTOK\\n\\nJoin Our Community Groups:\\nhttps://johncrestani.com/DISCORD\\nhttps://johncrestani.com/FACEBOOK\\n\\n\\nThe information contained on this YouTube Channel and the resources available for download/viewing through this YouTube Channel is for educational and informational purposes only.\\u200b\\n\\nDISCLAIMER: This video either has links to my own products or affiliate products so any purchases you make from the links clicked in this video I will earn a commission with it.\",\n",
       " 'Results are not typical.',\n",
       " 'I am a professional internet marketer with years of experience and do not guarantee you will achieve the same results.',\n",
       " 'VIDEO EDITING: By http://theblackdogvideo.com\\n\\n🎭 PRESS INQUIRIES CONTACT support@johncrestani.com \\nSubject line must be exactly: Press Inquiry\\n\\n#JohnCrestani #MarketingTechSong: https://www.youtube.com/watch?v=sJIOB...\\n\\n⚠️I do not own any of the music played in this video\\n\\n\\n\\n\\n\\n\\n\\n\\n\\n\\n\\n\\n\\nTags: fortnite,fortnite highlights,fortnite battle royale,highlights,fortnite gameplay,fortnite funny moments,fortnite best moments,twitch highlights,fortnite montage,fortnite compilation,fortnite highlights #1,fortnite new,tfue highlights,fortnite best highlights,lmgk transition,edited like lmgk,edited like numby,edited like clerke,lmgk,fortnite editing,how to edit like numby,how to edit like lmgk,how to edit like clerke,fortnite season 4fortnite item shop,\\nfortnite season 4,\\nfortnite cars,\\nfortnite montage,\\nfortnite song\\nfortnite highlights #1,\\nfortnite highlights with music,\\nfortnite highlights intro,\\nfortnite highlights controller,\\nfortnite highlights montage,\\nfortnite highlights cinematic,\\nfortnite highlights intro cinematic,\\nfortnite highlights lemonade,\\nfortnite highlights #,\\nfortnite highlights arena,\\nfortnite highlights and 😀 funny moments,\\nfortnite highlights after effects,\\nfortnite highlights addison rae,\\nfortnite highlights aqua,\\nfortnite highlights all']"
      ]
     },
     "execution_count": 37,
     "metadata": {},
     "output_type": "execute_result"
    }
   ],
   "source": [
    "sent_tokenize(mystring)"
   ]
  },
  {
   "cell_type": "code",
   "execution_count": 31,
   "metadata": {},
   "outputs": [],
   "source": [
    "def split_count(text):\n",
    "\n",
    "    emoji_list = []\n",
    "    data = regex.findall(r'\\X', text)\n",
    "    for word in data:\n",
    "        if any(char in emoji.UNICODE_EMOJI['en'] for char in word):\n",
    "            emoji_list.append(word)\n",
    "    \n",
    "    return len(emoji_list)"
   ]
  },
  {
   "cell_type": "code",
   "execution_count": 35,
   "metadata": {},
   "outputs": [],
   "source": [
    "def clean_text(text):\n",
    "    tokenlist=[]\n",
    "    tokens=t.tokenize(text)\n",
    "    for token in tokens:\n",
    "        #get rid of /n and similar chars:\n",
    "        data = regex.findall(r'\\X', token)\n",
    "        if any(char for char in data)>1:\n",
    "            token = token.replace(char,\"\")\n",
    "        if not token.isalpha():\n",
    "            if token in [\"!\",\"?\",\"@\",\"#\"] or token in emoji.UNICODE_EMOJI['en']:\n",
    "                tokenlist.append(token)\n",
    "            else:\n",
    "                continue\n",
    "        else:\n",
    "            if len(token)>1:\n",
    "                tokenlist.append(token.lower())\n",
    "        #get rid of selective puntuation, leaving in emojis, #, ?, and !\n",
    "        #replace any links with \"includes_a_link\", treating any link as the same word\n",
    "            \n",
    "    return(tokenlist)"
   ]
  },
  {
   "cell_type": "code",
   "execution_count": 41,
   "metadata": {},
   "outputs": [],
   "source": [
    "data = mystring.replace(\"\\n\",\".\")"
   ]
  },
  {
   "cell_type": "code",
   "execution_count": 43,
   "metadata": {},
   "outputs": [],
   "source": [
    "def make_sentences(x):\n",
    "    data = x.replace(\"\\n\",\".\")\n",
    "    nltk.sent_tokenize(x)\n",
    "    return(x)"
   ]
  },
  {
   "cell_type": "code",
   "execution_count": 44,
   "metadata": {},
   "outputs": [
    {
     "data": {
      "text/plain": [
       "\"Ryan Hildreth shows you how to get free $100 paypal gift cards everyday on autopilot! Easy PayPal money!\\n\\nMy #1 Recommendation For Making Money Online: https://www.funnelfromhome.com/earn500\\r\\n\\r\\nIf you don’t know who I am, my name is Ryan Hildreth and I’m a 7 figure digital marketer. I’ve created multiple online businesses beginning in January 2017 that have allowed me to quit my boring 9 to 5 job, have more time to spend with family and friends, travel the world, buy my dream cars, invest in real estate, and marry my dream woman. If any of these things sound like something you’re striving for, then please subscribe to my channel and let me help you reach your destination. Cheers!\\r\\n\\r\\nDisclosure: I am an independent ClickFunnels Affiliate, not an employee. I receive referral payments from ClickFunnels. The opinions expressed here are my own and are not official statements of ClickFunnels or its parent company, Etison LLC.\\r\\n\\r\\n*earnings disclaimer* Ryan Hildreth is a professional marketer and does not guarantee any results. Your results may be more, the same, or less depending on your work ethic, your individual abilities, economic conditions, and your ability to apply the skills you learned. Some of the links above are affiliate links and Ryan will receive a small commission if you use them. You may use a different link if you choose to.5 Reasons WALMARTs Affiliate Program is a JOKE!\\n🔥 #1 Way to Make Money\\nCLICK HERE 👉 https://johncrestani.com/GOAT\\n🤑 Free Access To My Software\\n👉 https://marketingtech.io/agent/\\nWant To Learn How To Make Money?\\n💰 Want To Know How I Made My Money?\\nhttps://JohnCrestani.com/My_Story\\n💰 Learn How To Make from $100-$200 a DAY with my FREE TRAFFIC METHODS Videos:\\nCLICK HERE 👉 https://www.youtube.com/playlist?list=PLH5uPY760sBP_O6vqb7MdvzLDnR_vtSh2\\n\\n😡Are you wondering how to make money with walmart affiliate program? then you NEED to watch this video NOW!. Many companies use and abuse affiliate marketers getting traffic for them and paying lousy commissions. Walmart is one of them and in this video I give you five reasons why I think nobody should give their traffic to Walmart. \\n\\nChapters:\\n00:00 - Why You Need To Watch This Video NOW!\\n00:33 - Reason #1 \\n01:25 - Reason #2\\n01:52 - Reason #3\\n03:01 - Reason #4 \\n04:19 - Reason #5 \\n\\nWhat do you need help with that I can make videos about next? COMMENT BELOW!\\n\\nLet's Connect On Social Media:\\nhttps://johncrestani.com/LINKEDIN\\nhttps://johncrestani.com/INSTAGRAM\\nhttps://johncrestani.com/TWITTER\\nhttps://johncrestani.com/ANGELLIST\\nhttps://johncrestani.com/TWITCH\\nhttps://johncrestani.com/TIKTOK\\n\\nJoin Our Community Groups:\\nhttps://johncrestani.com/DISCORD\\nhttps://johncrestani.com/FACEBOOK\\n\\n\\nThe information contained on this YouTube Channel and the resources available for download/viewing through this YouTube Channel is for educational and informational purposes only.\\u200b\\n\\nDISCLAIMER: This video either has links to my own products or affiliate products so any purchases you make from the links clicked in this video I will earn a commission with it. Results are not typical. I am a professional internet marketer with years of experience and do not guarantee you will achieve the same results.\\n\\nVIDEO EDITING: By http://theblackdogvideo.com\\n\\n🎭 PRESS INQUIRIES CONTACT support@johncrestani.com \\nSubject line must be exactly: Press Inquiry\\n\\n#JohnCrestani #MarketingTechSong: https://www.youtube.com/watch?v=sJIOB...\\n\\n⚠️I do not own any of the music played in this video\\n\\n\\n\\n\\n\\n\\n\\n\\n\\n\\n\\n\\n\\nTags: fortnite,fortnite highlights,fortnite battle royale,highlights,fortnite gameplay,fortnite funny moments,fortnite best moments,twitch highlights,fortnite montage,fortnite compilation,fortnite highlights #1,fortnite new,tfue highlights,fortnite best highlights,lmgk transition,edited like lmgk,edited like numby,edited like clerke,lmgk,fortnite editing,how to edit like numby,how to edit like lmgk,how to edit like clerke,fortnite season 4fortnite item shop,\\nfortnite season 4,\\nfortnite cars,\\nfortnite montage,\\nfortnite song\\nfortnite highlights #1,\\nfortnite highlights with music,\\nfortnite highlights intro,\\nfortnite highlights controller,\\nfortnite highlights montage,\\nfortnite highlights cinematic,\\nfortnite highlights intro cinematic,\\nfortnite highlights lemonade,\\nfortnite highlights #,\\nfortnite highlights arena,\\nfortnite highlights and 😀 funny moments,\\nfortnite highlights after effects,\\nfortnite highlights addison rae,\\nfortnite highlights aqua,\\nfortnite highlights all\""
      ]
     },
     "execution_count": 44,
     "metadata": {},
     "output_type": "execute_result"
    }
   ],
   "source": [
    "make_sentences(mystring)"
   ]
  },
  {
   "cell_type": "code",
   "execution_count": null,
   "metadata": {},
   "outputs": [],
   "source": []
  }
 ],
 "metadata": {
  "interpreter": {
   "hash": "566c7dc836cf49ea79a80bde3a77d731ae67019fab1def2dd83c01090ce827fd"
  },
  "kernelspec": {
   "display_name": "Python 3.8.5 64-bit ('DataViz': conda)",
   "name": "python3"
  },
  "language_info": {
   "codemirror_mode": {
    "name": "ipython",
    "version": 3
   },
   "file_extension": ".py",
   "mimetype": "text/x-python",
   "name": "python",
   "nbconvert_exporter": "python",
   "pygments_lexer": "ipython3",
   "version": "3.8.5"
  },
  "orig_nbformat": 4
 },
 "nbformat": 4,
 "nbformat_minor": 2
}