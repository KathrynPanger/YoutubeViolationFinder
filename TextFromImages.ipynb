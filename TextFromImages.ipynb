{
  "cells": [
    {
      "cell_type": "code",
      "execution_count": null,
      "metadata": {
        "colab": {
          "base_uri": "https://localhost:8080/"
        },
        "id": "vnaSj5dyB3OB",
        "outputId": "a762d624-27b3-45eb-c49b-f6249335cd31"
      },
      "outputs": [
        {
          "name": "stdout",
          "output_type": "stream",
          "text": [
            "Drive already mounted at /content/drive; to attempt to forcibly remount, call drive.mount(\"/content/drive\", force_remount=True).\n"
          ]
        }
      ],
      "source": [
        "import tensorflow as tf\n",
        "from tensorflow.keras.layers import Dense, Flatten, Conv2D\n",
        "from tensorflow.keras import Model\n",
        "import pandas as pd\n",
        "import pymongo\n",
        "from pymongo import MongoClient\n",
        "import json\n",
        "import numpy as np\n",
        "from sklearn.model_selection import train_test_split\n",
        "from google.colab import drive\n",
        "import urllib.request\n",
        "drive.mount('/content/drive')\n",
        "import os\n"
      ]
    },
    {
      "cell_type": "code",
      "execution_count": null,
      "metadata": {
        "colab": {
          "base_uri": "https://localhost:8080/"
        },
        "id": "fttnJcO0yDNt",
        "outputId": "51d5ce87-de8a-4097-c511-148e0577dbc4"
      },
      "outputs": [
        {
          "name": "stdout",
          "output_type": "stream",
          "text": [
            "Reading package lists... Done\n",
            "Building dependency tree       \n",
            "Reading state information... Done\n",
            "tesseract-ocr is already the newest version (4.00~git2288-10f4998a-2).\n",
            "0 upgraded, 0 newly installed, 0 to remove and 40 not upgraded.\n",
            "Requirement already satisfied: pytesseract in /usr/local/lib/python3.7/dist-packages (0.3.8)\n",
            "Requirement already satisfied: Pillow in /usr/local/lib/python3.7/dist-packages (from pytesseract) (7.1.2)\n"
          ]
        }
      ],
      "source": [
        "!apt install -qq enchant\n",
        "!pip install pyenchant\n",
        "!sudo apt install tesseract-ocr\n",
        "!pip install pytesseract"
      ]
    },
    {
      "cell_type": "code",
      "execution_count": null,
      "metadata": {
        "id": "kJd3sW9w2GY6"
      },
      "outputs": [],
      "source": [
        "import pytesseract\n",
        "import shutil\n",
        "import os\n",
        "import random\n",
        "try:\n",
        " from PIL import Image\n",
        "except ImportError:\n",
        " import Image"
      ]
    },
    {
      "cell_type": "code",
      "execution_count": null,
      "metadata": {
        "id": "UZC2IKSBCM1y"
      },
      "outputs": [],
      "source": [
        "df=pd.read_csv(\"/content/drive/My Drive/Colab Notebooks/imagedata.csv\", encoding='ascii',quotechar='\"', delimiter=',')\n",
        "df = df.iloc[: , 1:]\n",
        "df=df.dropna()"
      ]
    },
    {
      "cell_type": "code",
      "execution_count": null,
      "metadata": {
        "colab": {
          "base_uri": "https://localhost:8080/",
          "height": 168
        },
        "id": "Mq78MRyJCzEr",
        "outputId": "da22f19f-f6e0-40d7-aa65-13a827f46426"
      },
      "outputs": [
        {
          "ename": "FileNotFoundError",
          "evalue": "ignored",
          "output_type": "error",
          "traceback": [
            "\u001b[0;31m---------------------------------------------------------------------------\u001b[0m",
            "\u001b[0;31mFileNotFoundError\u001b[0m                         Traceback (most recent call last)",
            "\u001b[0;32m<ipython-input-15-32e1009eae33>\u001b[0m in \u001b[0;36m<module>\u001b[0;34m()\u001b[0m\n\u001b[0;32m----> 1\u001b[0;31m \u001b[0mos\u001b[0m\u001b[0;34m.\u001b[0m\u001b[0mchdir\u001b[0m\u001b[0;34m(\u001b[0m\u001b[0;34m\"drive/MyDrive/Colab Notebooks/YT\"\u001b[0m\u001b[0;34m)\u001b[0m\u001b[0;34m\u001b[0m\u001b[0;34m\u001b[0m\u001b[0m\n\u001b[0m",
            "\u001b[0;31mFileNotFoundError\u001b[0m: [Errno 2] No such file or directory: 'drive/MyDrive/Colab Notebooks/YT'"
          ]
        }
      ],
      "source": [
        "os.chdir(\"drive/MyDrive/Colab Notebooks/YT\")"
      ]
    },
    {
      "cell_type": "code",
      "execution_count": null,
      "metadata": {
        "colab": {
          "base_uri": "https://localhost:8080/"
        },
        "id": "P2uiWtjIBbfS",
        "outputId": "1a931168-3b6b-435b-cadf-67f78bda75d2"
      },
      "outputs": [
        {
          "name": "stdout",
          "output_type": "stream",
          "text": [
            "809\n"
          ]
        }
      ],
      "source": [
        "counter=0\n",
        "for item in df[\"thumbnails\"]:\n",
        "  df1=df[(df.spam == 1) & (df.thumbnails == item)]\n",
        "  df2=df[(df.spam == 0) & (df.thumbnails == item)]\n",
        "  itemcode =item.split(\"/\")[4]\n",
        "  if len(df1)>0:\n",
        "    urllib.request.urlretrieve(item, f\"{itemcode}_1.jpg\")\n",
        "    counter+=1\n",
        "  elif  len(df2)>0:\n",
        "    urllib.request.urlretrieve(item, f\"{itemcode}_0.jpg\")\n",
        "    counter+=1\n",
        "  else:\n",
        "    print(df1)\n",
        "    print(df2)\n",
        "    raise Exception\n",
        "print(counter)"
      ]
    },
    {
      "cell_type": "markdown",
      "metadata": {
        "id": "1jENMNHjPdEG"
      },
      "source": []
    },
    {
      "cell_type": "code",
      "execution_count": null,
      "metadata": {
        "id": "pEMj4iinOkXt"
      },
      "outputs": [],
      "source": [
        "for item in df[\"thumbnails\"].loc[df[\"spam\"]==1]:\n",
        "    itemcode =item.split(\"/\")[4]\n",
        "    urllib.request.urlretrieve(item, f\"{itemcode}_1.jpg\")\n",
        "\n",
        "for item in df[\"thumbnails\"].loc[df[\"spam\"]==0]:\n",
        "    itemcode =item.split(\"/\")[4]\n",
        "    urllib.request.urlretrieve(item, f\"{itemcode}_0.jpg\")\n"
      ]
    },
    {
      "cell_type": "markdown",
      "metadata": {
        "id": "otF9QdDARG-g"
      },
      "source": []
    },
    {
      "cell_type": "code",
      "execution_count": null,
      "metadata": {
        "id": "eXlrrEXDPxkm"
      },
      "outputs": [],
      "source": [
        "string=\"https://i.ytimg.com/vi/wx5wxdRU6Ws/default.jpg\""
      ]
    },
    {
      "cell_type": "code",
      "execution_count": null,
      "metadata": {
        "colab": {
          "base_uri": "https://localhost:8080/",
          "height": 35
        },
        "id": "oNXxE0BcRJT0",
        "outputId": "94d27c15-112b-407f-9c09-30837a19dfd5"
      },
      "outputs": [
        {
          "data": {
            "application/vnd.google.colaboratory.intrinsic+json": {
              "type": "string"
            },
            "text/plain": [
              "'wx5wxdRU6Ws'"
            ]
          },
          "execution_count": 68,
          "metadata": {},
          "output_type": "execute_result"
        }
      ],
      "source": [
        "string.split(\"/\")[4]"
      ]
    },
    {
      "cell_type": "code",
      "execution_count": null,
      "metadata": {
        "colab": {
          "base_uri": "https://localhost:8080/"
        },
        "id": "sHOXXTLnyc1Y",
        "outputId": "dcd9369f-5671-4803-897b-6ab7c57b10aa"
      },
      "outputs": [
        {
          "data": {
            "text/plain": [
              "106"
            ]
          },
          "execution_count": 158,
          "metadata": {},
          "output_type": "execute_result"
        }
      ],
      "source": [
        "len(os.listdir())"
      ]
    },
    {
      "cell_type": "code",
      "execution_count": null,
      "metadata": {
        "id": "hbFJ70rVRNae"
      },
      "outputs": [],
      "source": [
        "import matplotlib.pyplot as plt\n",
        "import cv2"
      ]
    },
    {
      "cell_type": "code",
      "execution_count": null,
      "metadata": {
        "id": "iQqxoOB7xcXx"
      },
      "outputs": [],
      "source": [
        "im = cv2.imread(\"TMTqt2EUIfA_0.jpg\", cv2.IMREAD_COLOR)"
      ]
    },
    {
      "cell_type": "code",
      "execution_count": null,
      "metadata": {
        "colab": {
          "base_uri": "https://localhost:8080/",
          "height": 424
        },
        "id": "MADIoDB4DW57",
        "outputId": "db40b0e7-4385-4a73-a062-1b660b888a3a"
      },
      "outputs": [
        {
          "data": {
            "text/html": [
              "<div>\n",
              "<style scoped>\n",
              "    .dataframe tbody tr th:only-of-type {\n",
              "        vertical-align: middle;\n",
              "    }\n",
              "\n",
              "    .dataframe tbody tr th {\n",
              "        vertical-align: top;\n",
              "    }\n",
              "\n",
              "    .dataframe thead th {\n",
              "        text-align: right;\n",
              "    }\n",
              "</style>\n",
              "<table border=\"1\" class=\"dataframe\">\n",
              "  <thead>\n",
              "    <tr style=\"text-align: right;\">\n",
              "      <th></th>\n",
              "      <th>spam</th>\n",
              "      <th>thumbnails</th>\n",
              "    </tr>\n",
              "  </thead>\n",
              "  <tbody>\n",
              "    <tr>\n",
              "      <th>0</th>\n",
              "      <td>0</td>\n",
              "      <td>https://i.ytimg.com/vi/OxNy2yDlqN8/maxresdefau...</td>\n",
              "    </tr>\n",
              "    <tr>\n",
              "      <th>1</th>\n",
              "      <td>0</td>\n",
              "      <td>https://i.ytimg.com/vi/7t0EhIrKD2E/maxresdefau...</td>\n",
              "    </tr>\n",
              "    <tr>\n",
              "      <th>2</th>\n",
              "      <td>0</td>\n",
              "      <td>https://i.ytimg.com/vi/TMTqt2EUIfA/hqdefault.jpg</td>\n",
              "    </tr>\n",
              "    <tr>\n",
              "      <th>3</th>\n",
              "      <td>0</td>\n",
              "      <td>https://i.ytimg.com/vi/2wwbvN6zD50/maxresdefau...</td>\n",
              "    </tr>\n",
              "    <tr>\n",
              "      <th>4</th>\n",
              "      <td>0</td>\n",
              "      <td>https://i.ytimg.com/vi/eBr-H_Lr1Xs/hqdefault.jpg</td>\n",
              "    </tr>\n",
              "    <tr>\n",
              "      <th>...</th>\n",
              "      <td>...</td>\n",
              "      <td>...</td>\n",
              "    </tr>\n",
              "    <tr>\n",
              "      <th>804</th>\n",
              "      <td>1</td>\n",
              "      <td>https://i.ytimg.com/vi/wx5wxdRU6Ws/maxresdefau...</td>\n",
              "    </tr>\n",
              "    <tr>\n",
              "      <th>805</th>\n",
              "      <td>1</td>\n",
              "      <td>https://i.ytimg.com/vi/T5_pcusN-nE/hqdefault.jpg</td>\n",
              "    </tr>\n",
              "    <tr>\n",
              "      <th>806</th>\n",
              "      <td>1</td>\n",
              "      <td>https://i.ytimg.com/vi/ib8rfL4fH80/maxresdefau...</td>\n",
              "    </tr>\n",
              "    <tr>\n",
              "      <th>807</th>\n",
              "      <td>0</td>\n",
              "      <td>https://i.ytimg.com/vi/SGagLTYfxms/maxresdefau...</td>\n",
              "    </tr>\n",
              "    <tr>\n",
              "      <th>808</th>\n",
              "      <td>1</td>\n",
              "      <td>https://i.ytimg.com/vi/DWrSMp6TBr8/hqdefault.jpg</td>\n",
              "    </tr>\n",
              "  </tbody>\n",
              "</table>\n",
              "<p>809 rows × 2 columns</p>\n",
              "</div>"
            ],
            "text/plain": [
              "     spam                                         thumbnails\n",
              "0       0  https://i.ytimg.com/vi/OxNy2yDlqN8/maxresdefau...\n",
              "1       0  https://i.ytimg.com/vi/7t0EhIrKD2E/maxresdefau...\n",
              "2       0   https://i.ytimg.com/vi/TMTqt2EUIfA/hqdefault.jpg\n",
              "3       0  https://i.ytimg.com/vi/2wwbvN6zD50/maxresdefau...\n",
              "4       0   https://i.ytimg.com/vi/eBr-H_Lr1Xs/hqdefault.jpg\n",
              "..    ...                                                ...\n",
              "804     1  https://i.ytimg.com/vi/wx5wxdRU6Ws/maxresdefau...\n",
              "805     1   https://i.ytimg.com/vi/T5_pcusN-nE/hqdefault.jpg\n",
              "806     1  https://i.ytimg.com/vi/ib8rfL4fH80/maxresdefau...\n",
              "807     0  https://i.ytimg.com/vi/SGagLTYfxms/maxresdefau...\n",
              "808     1   https://i.ytimg.com/vi/DWrSMp6TBr8/hqdefault.jpg\n",
              "\n",
              "[809 rows x 2 columns]"
            ]
          },
          "execution_count": 149,
          "metadata": {},
          "output_type": "execute_result"
        }
      ],
      "source": [
        "\n",
        "sen tokens freqs_matrix pos_matrix"
      ]
    },
    {
      "cell_type": "code",
      "execution_count": null,
      "metadata": {
        "id": "uN4DHWatJW03"
      },
      "outputs": [],
      "source": [
        "import enchant\n",
        "d=enchant.Dict(\"en_US\")"
      ]
    },
    {
      "cell_type": "code",
      "execution_count": null,
      "metadata": {
        "colab": {
          "base_uri": "https://localhost:8080/",
          "height": 1000
        },
        "id": "Neq3QT3F24x3",
        "outputId": "bba3f8f5-c30b-4580-c7b6-dd3d0a5295e9"
      },
      "outputs": [
        {
          "name": "stdout",
          "output_type": "stream",
          "text": [
            "[]\n",
            "[]\n",
            "[]\n",
            "['MAKE']\n",
            "[]\n",
            "[]\n",
            "[]\n",
            "[]\n",
            "['business', '2013', 'Mar', '2014', 'ea', 'tone']\n",
            "['Your', 'estimated', '7', 'days', 'estimated', 'revenue', 'Aug', '24', 'Aug', '20', '21']\n",
            "[]\n",
            "[]\n",
            "[]\n",
            "[]\n",
            "[]\n",
            "['9']\n",
            "[]\n",
            "[]\n",
            "['REVIEW']\n",
            "[]\n",
            "[]\n",
            "['eel']\n",
            "[]\n",
            "[]\n",
            "['Giveaway', 'a', 'Comment', 'to']\n",
            "[]\n",
            "[]\n",
            "[]\n",
            "['BASKET']\n",
            "[]\n",
            "['SUBSCRIBER']\n",
            "[]\n",
            "['Elapsed', 'are', 'Games', 'are']\n",
            "[]\n",
            "[]\n",
            "[]\n",
            "['of', 'THIS']\n",
            "['Best', 'Free', 'Trick']\n",
            "[]\n",
            "['US', 'i', 'ls', 'Mae', 'i', 'met', 'Is', 'st', 'eats', 'Or', 'you', 'want', 'to', 'trade']\n",
            "[]\n",
            "['T']\n",
            "[]\n",
            "['i-M', 'Y', 'to', 'YouTube', 'Tech', 'Y', 'Of', 'Y', '1,000']\n",
            "[]\n",
            "[]\n",
            "[]\n",
            "[]\n",
            "[]\n",
            "['yea', '4', 'Net', 'Rabin', 'now', 'ma']\n",
            "['GIVE', 'OR']\n",
            "[]\n",
            "['Spinning']\n",
            "[]\n",
            "[]\n",
            "[]\n",
            "[]\n",
            "[]\n",
            "[]\n",
            "[]\n",
            "[]\n",
            "['This', 'Detects']\n",
            "[]\n",
            "['a', 'April', 'Cara']\n",
            "['visit', 'use', 'Gift', 'Cards', 'for', 'payment', 'outside', 'of', 'NU', 'AM', 'MON', 'or', 'except', 'as', 'required', 'by', 'law.', 'See', 'full', 'r', 'emcee', '79307', '532114']\n",
            "[]\n",
            "[]\n",
            "[]\n",
            "[]\n",
            "['UNNECESSARY', 'THAT']\n",
            "[]\n",
            "[]\n",
            "['4']\n",
            "[]\n",
            "[]\n",
            "['KITCHEN']\n",
            "[]\n",
            "[]\n",
            "[]\n",
            "[]\n",
            "[]\n",
            "['1ST', 'HOLIDAY', 'GIFT', 'CARD', 'HEARD', 'GIFT', 'CARD', 'UP', 'FOR']\n",
            "[]\n",
            "['1', 'My', 'x', 'SECURE']\n",
            "[]\n",
            "[]\n",
            "[]\n",
            "[]\n",
            "[]\n",
            "[]\n",
            "[]\n",
            "[]\n",
            "[]\n",
            "[]\n",
            "[]\n",
            "[]\n",
            "[]\n",
            "[]\n",
            "[]\n",
            "[]\n",
            "[]\n",
            "[]\n",
            "[]\n",
            "[]\n"
          ]
        },
        {
          "data": {
            "text/plain": [
              "<Figure size 432x288 with 0 Axes>"
            ]
          },
          "metadata": {},
          "output_type": "display_data"
        }
      ],
      "source": [
        "for item in os.listdir():\n",
        "  if item[-1]==\"g\":\n",
        "    im = cv2.imread(item, cv2.IMREAD_COLOR)\n",
        "    im = cv2.bitwise_not(im)\n",
        "    filename = 'savedImage.jpg'\n",
        "      \n",
        "    # Using cv2.imwrite() method\n",
        "    # Saving the image\n",
        "    cv2.imwrite(filename, im)\n",
        "    image_path_in_colab=\"savedImage.jpg\"\n",
        "    extract = pytesseract.image_to_string(Image.open(image_path_in_colab))\n",
        "    words=[]\n",
        "    for item in extract.split(\" \"):\n",
        "      if item:\n",
        "        if d.check(item):\n",
        "          words.append(item)\n",
        "    print(words)\n",
        "    plt.clf()"
      ]
    },
    {
      "cell_type": "code",
      "execution_count": null,
      "metadata": {
        "colab": {
          "base_uri": "https://localhost:8080/",
          "height": 35
        },
        "id": "gGA2l6lW3HYY",
        "outputId": "64610f93-ec12-416a-8c8e-f0b883c4655b"
      },
      "outputs": [
        {
          "data": {
            "application/vnd.google.colaboratory.intrinsic+json": {
              "type": "string"
            },
            "text/plain": [
              "' \\n\\x0c'"
            ]
          },
          "execution_count": 114,
          "metadata": {},
          "output_type": "execute_result"
        }
      ],
      "source": [
        "extract."
      ]
    },
    {
      "cell_type": "code",
      "execution_count": null,
      "metadata": {
        "id": "acZ7_e7J-U47"
      },
      "outputs": [],
      "source": [
        "from PIL import Image\n",
        "img = Image.open('savedImage.jpg').convert('L')\n",
        "img.save('savedImage.jpg')"
      ]
    },
    {
      "cell_type": "code",
      "execution_count": null,
      "metadata": {
        "id": "pEPJiesv3Ja9"
      },
      "outputs": [],
      "source": [
        "from PIL import Image, ImageEnhance\n",
        "\n",
        "file = \"C://Users/ABC/20.jpg\"\n",
        "img = Image.open(file)\n",
        "img.show()"
      ]
    }
  ],
  "metadata": {
    "colab": {
      "collapsed_sections": [],
      "name": "get_images.ipynb",
      "provenance": []
    },
    "interpreter": {
      "hash": "566c7dc836cf49ea79a80bde3a77d731ae67019fab1def2dd83c01090ce827fd"
    },
    "kernelspec": {
      "display_name": "Python 3.8.5 64-bit ('DataViz': conda)",
      "name": "python3"
    },
    "language_info": {
      "name": "python",
      "version": ""
    }
  },
  "nbformat": 4,
  "nbformat_minor": 0
}