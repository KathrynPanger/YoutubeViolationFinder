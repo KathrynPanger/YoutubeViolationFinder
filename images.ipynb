{
 "cells": [
  {
   "cell_type": "code",
   "execution_count": 3,
   "metadata": {},
   "outputs": [],
   "source": [
    "import os\n",
    "import json \n",
    "import pandas as pd\n",
    "import pymongo\n",
    "from pymongo import MongoClient\n",
    "import socket\n",
    "import urllib.request as urllib2\n",
    "import pandas as pd\n",
    "import os\n"
   ]
  },
  {
   "cell_type": "code",
   "execution_count": 4,
   "metadata": {},
   "outputs": [],
   "source": [
    "#connect to mongodb\n",
    "\n",
    "conn = 'mongodb://localhost:27017'\n",
    "client = pymongo.MongoClient(conn)\n",
    "\n",
    "\n",
    "db = client.videos_mdb\n",
    "collection = db[\"videos\"]  "
   ]
  },
  {
   "cell_type": "code",
   "execution_count": 5,
   "metadata": {},
   "outputs": [],
   "source": [
    "#pull data from mongo\n",
    "linVarList=[\"id\",\"spam\",\"thumbnails\"]\n",
    "df=pd.DataFrame(columns=linVarList)\n",
    "row=[]\n",
    "counter=0\n",
    "data = collection.find({})\n",
    "for item in data:\n",
    "    for var in linVarList:\n",
    "        if var in item:\n",
    "            row.append(item[var])\n",
    "        else:\n",
    "            row.append(\".\")\n",
    "    df.loc[counter] = row\n",
    "    counter+=1\n",
    "    row=[]"
   ]
  },
  {
   "cell_type": "code",
   "execution_count": 6,
   "metadata": {},
   "outputs": [],
   "source": [
    "#Function to get the highest resolution possible thumbnail\n",
    "def get_thumbnail(x):\n",
    "    try:\n",
    "        image = x[\"maxres\"][\"url\"]\n",
    "    except:\n",
    "        try:\n",
    "            image = x[\"high\"][\"url\"]\n",
    "        except:\n",
    "            try:\n",
    "                image = x[\"medium\"][\"url\"]\n",
    "            except:\n",
    "                try:\n",
    "                    image = x[\"standard\"][\"url\"]\n",
    "                except:\n",
    "                    image = x[\"default\"][\"url\"]\n",
    "    return(image)"
   ]
  },
  {
   "cell_type": "code",
   "execution_count": 7,
   "metadata": {},
   "outputs": [],
   "source": [
    "#Apply function to dataframe\n",
    "df[\"thumbnails\"]=df[\"thumbnails\"].apply(lambda x: get_thumbnail(x))"
   ]
  },
  {
   "cell_type": "code",
   "execution_count": 8,
   "metadata": {},
   "outputs": [],
   "source": [
    "#Write out data\n",
    "csv=df.to_csv(r'imagedata.csv',index=False)"
   ]
  },
  {
   "cell_type": "code",
   "execution_count": 21,
   "metadata": {},
   "outputs": [
    {
     "data": {
      "text/html": [
       "<div>\n",
       "<style scoped>\n",
       "    .dataframe tbody tr th:only-of-type {\n",
       "        vertical-align: middle;\n",
       "    }\n",
       "\n",
       "    .dataframe tbody tr th {\n",
       "        vertical-align: top;\n",
       "    }\n",
       "\n",
       "    .dataframe thead th {\n",
       "        text-align: right;\n",
       "    }\n",
       "</style>\n",
       "<table border=\"1\" class=\"dataframe\">\n",
       "  <thead>\n",
       "    <tr style=\"text-align: right;\">\n",
       "      <th></th>\n",
       "      <th>id</th>\n",
       "      <th>spam</th>\n",
       "      <th>thumbnails</th>\n",
       "    </tr>\n",
       "  </thead>\n",
       "  <tbody>\n",
       "    <tr>\n",
       "      <th>0</th>\n",
       "      <td>KH-i2P92bS4</td>\n",
       "      <td>1</td>\n",
       "      <td>https://i.ytimg.com/vi/KH-i2P92bS4/maxresdefau...</td>\n",
       "    </tr>\n",
       "    <tr>\n",
       "      <th>1</th>\n",
       "      <td>ix1vK9-9rUw</td>\n",
       "      <td>1</td>\n",
       "      <td>https://i.ytimg.com/vi/ix1vK9-9rUw/maxresdefau...</td>\n",
       "    </tr>\n",
       "    <tr>\n",
       "      <th>2</th>\n",
       "      <td>UZ4OrJHDpi0</td>\n",
       "      <td>1</td>\n",
       "      <td>https://i.ytimg.com/vi/UZ4OrJHDpi0/maxresdefau...</td>\n",
       "    </tr>\n",
       "    <tr>\n",
       "      <th>3</th>\n",
       "      <td>6wqiOt0HO_c</td>\n",
       "      <td>1</td>\n",
       "      <td>https://i.ytimg.com/vi/6wqiOt0HO_c/maxresdefau...</td>\n",
       "    </tr>\n",
       "    <tr>\n",
       "      <th>4</th>\n",
       "      <td>B80XsS6uvP8</td>\n",
       "      <td>1</td>\n",
       "      <td>https://i.ytimg.com/vi/B80XsS6uvP8/maxresdefau...</td>\n",
       "    </tr>\n",
       "    <tr>\n",
       "      <th>...</th>\n",
       "      <td>...</td>\n",
       "      <td>...</td>\n",
       "      <td>...</td>\n",
       "    </tr>\n",
       "    <tr>\n",
       "      <th>142</th>\n",
       "      <td>1u_f-YIsNMs</td>\n",
       "      <td>1</td>\n",
       "      <td>https://i.ytimg.com/vi/1u_f-YIsNMs/maxresdefau...</td>\n",
       "    </tr>\n",
       "    <tr>\n",
       "      <th>143</th>\n",
       "      <td>OUNMYnfhatA</td>\n",
       "      <td>1</td>\n",
       "      <td>https://i.ytimg.com/vi/OUNMYnfhatA/maxresdefau...</td>\n",
       "    </tr>\n",
       "    <tr>\n",
       "      <th>144</th>\n",
       "      <td>o24YcDTKA-4</td>\n",
       "      <td>1</td>\n",
       "      <td>https://i.ytimg.com/vi/o24YcDTKA-4/maxresdefau...</td>\n",
       "    </tr>\n",
       "    <tr>\n",
       "      <th>145</th>\n",
       "      <td>zi2tTCpIPg0</td>\n",
       "      <td>1</td>\n",
       "      <td>https://i.ytimg.com/vi/zi2tTCpIPg0/maxresdefau...</td>\n",
       "    </tr>\n",
       "    <tr>\n",
       "      <th>146</th>\n",
       "      <td>oNPIoaW77Mg</td>\n",
       "      <td>1</td>\n",
       "      <td>https://i.ytimg.com/vi/oNPIoaW77Mg/maxresdefau...</td>\n",
       "    </tr>\n",
       "  </tbody>\n",
       "</table>\n",
       "<p>147 rows × 3 columns</p>\n",
       "</div>"
      ],
      "text/plain": [
       "              id spam                                         thumbnails\n",
       "0    KH-i2P92bS4    1  https://i.ytimg.com/vi/KH-i2P92bS4/maxresdefau...\n",
       "1    ix1vK9-9rUw    1  https://i.ytimg.com/vi/ix1vK9-9rUw/maxresdefau...\n",
       "2    UZ4OrJHDpi0    1  https://i.ytimg.com/vi/UZ4OrJHDpi0/maxresdefau...\n",
       "3    6wqiOt0HO_c    1  https://i.ytimg.com/vi/6wqiOt0HO_c/maxresdefau...\n",
       "4    B80XsS6uvP8    1  https://i.ytimg.com/vi/B80XsS6uvP8/maxresdefau...\n",
       "..           ...  ...                                                ...\n",
       "142  1u_f-YIsNMs    1  https://i.ytimg.com/vi/1u_f-YIsNMs/maxresdefau...\n",
       "143  OUNMYnfhatA    1  https://i.ytimg.com/vi/OUNMYnfhatA/maxresdefau...\n",
       "144  o24YcDTKA-4    1  https://i.ytimg.com/vi/o24YcDTKA-4/maxresdefau...\n",
       "145  zi2tTCpIPg0    1  https://i.ytimg.com/vi/zi2tTCpIPg0/maxresdefau...\n",
       "146  oNPIoaW77Mg    1  https://i.ytimg.com/vi/oNPIoaW77Mg/maxresdefau...\n",
       "\n",
       "[147 rows x 3 columns]"
      ]
     },
     "execution_count": 21,
     "metadata": {},
     "output_type": "execute_result"
    }
   ],
   "source": [
    "df"
   ]
  },
  {
   "cell_type": "code",
   "execution_count": null,
   "metadata": {},
   "outputs": [],
   "source": []
  }
 ],
 "metadata": {
  "interpreter": {
   "hash": "566c7dc836cf49ea79a80bde3a77d731ae67019fab1def2dd83c01090ce827fd"
  },
  "kernelspec": {
   "display_name": "Python 3.8.5 64-bit ('DataViz': conda)",
   "name": "python3"
  },
  "language_info": {
   "codemirror_mode": {
    "name": "ipython",
    "version": 3
   },
   "file_extension": ".py",
   "mimetype": "text/x-python",
   "name": "python",
   "nbconvert_exporter": "python",
   "pygments_lexer": "ipython3",
   "version": "3.8.5"
  },
  "orig_nbformat": 4
 },
 "nbformat": 4,
 "nbformat_minor": 2
}