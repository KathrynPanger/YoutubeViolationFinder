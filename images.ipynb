{
 "cells": [
  {
   "cell_type": "code",
   "execution_count": 1,
   "metadata": {},
   "outputs": [],
   "source": [
    "import os\n",
    "import json \n",
    "import pandas as pd\n",
    "import pymongo\n",
    "#from google.colab import drive\n",
    "from pymongo import MongoClient\n",
    "import socket\n",
    "import urllib.request as urllib2\n",
    "import pandas as pd\n",
    "import os\n"
   ]
  },
  {
   "cell_type": "code",
   "execution_count": null,
   "metadata": {},
   "outputs": [],
   "source": [
    "#connect to mongodb\n",
    "\n",
    "conn = 'mongodb://localhost:27017'\n",
    "client = pymongo.MongoClient(conn)\n",
    "\n",
    "\n",
    "db = client.videos_mdb\n",
    "collection = db[\"videos\"]  "
   ]
  },
  {
   "cell_type": "code",
   "execution_count": null,
   "metadata": {},
   "outputs": [],
   "source": [
    "linVarList=[\"spam\",\"thumbnails\"]\n",
    "df=pd.DataFrame(columns=linVarList)\n",
    "row=[]\n",
    "counter=0\n",
    "#pull linear data from scam and non-scam categories, then sample 100 randomly from each to create training and testing data\n",
    "data = collection.find({})\n",
    "for item in data:\n",
    "    for var in linVarList:\n",
    "        if var in item:\n",
    "            row.append(item[var])\n",
    "        else:\n",
    "            row.append(\".\")\n",
    "    df.loc[counter] = row\n",
    "    counter+=1\n",
    "    row=[]"
   ]
  },
  {
   "cell_type": "code",
   "execution_count": null,
   "metadata": {},
   "outputs": [],
   "source": [
    "def get_thumbnail(x):\n",
    "    return(x[\"default\"][\"url\"])"
   ]
  },
  {
   "cell_type": "code",
   "execution_count": null,
   "metadata": {},
   "outputs": [],
   "source": [
    "df[\"thumbnails\"]=df[\"thumbnails\"].apply(lambda x: get_thumbnail(x))"
   ]
  },
  {
   "cell_type": "code",
   "execution_count": null,
   "metadata": {},
   "outputs": [],
   "source": [
    "testimage=df[\"thumbnails\"][0]"
   ]
  },
  {
   "cell_type": "code",
   "execution_count": null,
   "metadata": {},
   "outputs": [],
   "source": [
    "import urllib.request\n",
    "imgURL = testimage\n",
    "\n",
    "urllib.request.urlretrieve(imgURL, \"test.jpg\")"
   ]
  }
 ],
 "metadata": {
  "interpreter": {
   "hash": "566c7dc836cf49ea79a80bde3a77d731ae67019fab1def2dd83c01090ce827fd"
  },
  "kernelspec": {
   "display_name": "Python 3.8.5 64-bit ('DataViz': conda)",
   "name": "python3"
  },
  "language_info": {
   "codemirror_mode": {
    "name": "ipython",
    "version": 3
   },
   "file_extension": ".py",
   "mimetype": "text/x-python",
   "name": "python",
   "nbconvert_exporter": "python",
   "pygments_lexer": "ipython3",
   "version": "3.8.5"
  },
  "orig_nbformat": 4
 },
 "nbformat": 4,
 "nbformat_minor": 2
}