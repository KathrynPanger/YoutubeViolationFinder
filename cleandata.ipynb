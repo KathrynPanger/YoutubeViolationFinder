{
 "cells": [
  {
   "cell_type": "code",
   "execution_count": 1,
   "metadata": {},
   "outputs": [],
   "source": [
    "import os\n",
    "import json \n",
    "import pandas as pd\n",
    "import pymongo\n",
    "#from google.colab import drive\n",
    "from pymongo import MongoClient\n",
    "import socket\n",
    "import urllib.request as urllib2\n",
    "import pandas as pd\n",
    "import os\n",
    "import pprint"
   ]
  },
  {
   "cell_type": "code",
   "execution_count": 2,
   "metadata": {},
   "outputs": [],
   "source": [
    "#connect to mongodb\n",
    "\n",
    "conn = 'mongodb://localhost:27017'\n",
    "client = pymongo.MongoClient(conn)\n",
    "\n",
    "\n",
    "db = client.videos_mdb\n",
    "collection = db[\"videos\"]  "
   ]
  },
  {
   "cell_type": "code",
   "execution_count": 3,
   "metadata": {},
   "outputs": [],
   "source": [
    "#Get records\n",
    "linVarList=[\"_id\",\"spam\",\"thumbnails\", \"title\",\"description\"]\n",
    "df=pd.DataFrame(columns=linVarList)\n",
    "row=[]\n",
    "counter=0\n",
    "data = collection.find({})\n",
    "for item in data:\n",
    "    for var in linVarList:\n",
    "        if var in item:\n",
    "            row.append(item[var])\n",
    "        else:\n",
    "            row.append(\".\")\n",
    "    df.loc[counter] = row\n",
    "    counter+=1\n",
    "    row=[]"
   ]
  },
  {
   "cell_type": "code",
   "execution_count": 33,
   "metadata": {},
   "outputs": [],
   "source": [
    "#Define a function to get thumbnails at highest possible resolution\n",
    "def get_thumbnail(x):\n",
    "    try:\n",
    "        return(x[\"maxres\"][\"url\"])\n",
    "    except:\n",
    "        try:\n",
    "            return(x[\"high\"][\"url\"])\n",
    "        except:\n",
    "            try:\n",
    "                return(x[\"medium\"][\"url\"])\n",
    "            except:\n",
    "                try:\n",
    "                    return(x[\"default\"][\"url\"])\n",
    "                except:\n",
    "                    print(\"miss\")"
   ]
  },
  {
   "cell_type": "code",
   "execution_count": 34,
   "metadata": {},
   "outputs": [],
   "source": [
    "#Get the thumbnails\n",
    "df[\"thumbnails\"]=df[\"thumbnails\"].apply(lambda x: get_thumbnail(x))"
   ]
  },
  {
   "cell_type": "code",
   "execution_count": 6,
   "metadata": {},
   "outputs": [],
   "source": [
    "#Write the data out\n",
    "df.to_csv(\"imagedata.csv\")"
   ]
  },
  {
   "cell_type": "code",
   "execution_count": 32,
   "metadata": {},
   "outputs": [],
   "source": [
    "def gettextfromobj(x):\n",
    "    return str(x)"
   ]
  },
  {
   "cell_type": "code",
   "execution_count": 76,
   "metadata": {},
   "outputs": [],
   "source": [
    "nf=df.drop_duplicates(subset=[\"description\", \"title\"], ignore_index=True)\n",
    "nf\n",
    "codes=nf[\"_id\"].apply(lambda x: gettextfromobj(x))\n"
   ]
  },
  {
   "cell_type": "code",
   "execution_count": 147,
   "metadata": {},
   "outputs": [],
   "source": [
    "if 0:\n",
    "    print(\"yes\")"
   ]
  },
  {
   "cell_type": "code",
   "execution_count": 151,
   "metadata": {},
   "outputs": [],
   "source": [
    "#Define a function to check if we already downloaded a video yet\n",
    "def is_inthedb(id):\n",
    "    count=collection.count_documents({\"id\":id})\n",
    "    if count:\n",
    "        return True"
   ]
  },
  {
   "cell_type": "code",
   "execution_count": 72,
   "metadata": {},
   "outputs": [],
   "source": [
    "for item in data:\n",
    "    if item:\n",
    "        print (\"yes\")\n",
    "    else:\n",
    "        break"
   ]
  },
  {
   "cell_type": "code",
   "execution_count": 150,
   "metadata": {},
   "outputs": [],
   "source": [
    "    print(\"yes\")"
   ]
  },
  {
   "cell_type": "code",
   "execution_count": 140,
   "metadata": {},
   "outputs": [
    {
     "data": {
      "text/plain": [
       "184"
      ]
     },
     "execution_count": 140,
     "metadata": {},
     "output_type": "execute_result"
    }
   ],
   "source": [
    "collection.count_documents({})"
   ]
  },
  {
   "cell_type": "code",
   "execution_count": null,
   "metadata": {},
   "outputs": [],
   "source": []
  }
 ],
 "metadata": {
  "interpreter": {
   "hash": "566c7dc836cf49ea79a80bde3a77d731ae67019fab1def2dd83c01090ce827fd"
  },
  "kernelspec": {
   "display_name": "Python 3.8.5 64-bit ('DataViz': conda)",
   "name": "python3"
  },
  "language_info": {
   "codemirror_mode": {
    "name": "ipython",
    "version": 3
   },
   "file_extension": ".py",
   "mimetype": "text/x-python",
   "name": "python",
   "nbconvert_exporter": "python",
   "pygments_lexer": "ipython3",
   "version": "3.8.5"
  },
  "orig_nbformat": 4
 },
 "nbformat": 4,
 "nbformat_minor": 2
}