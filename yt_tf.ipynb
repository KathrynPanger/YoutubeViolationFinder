{
  "nbformat": 4,
  "nbformat_minor": 0,
  "metadata": {
    "colab": {
      "name": "yt_tf.ipynb",
      "provenance": [],
      "collapsed_sections": []
    },
    "kernelspec": {
      "name": "python3",
      "display_name": "Python 3"
    },
    "language_info": {
      "name": "python"
    }
  },
  "cells": [
    {
      "cell_type": "code",
      "metadata": {
        "id": "VzX1cH81z4uX"
      },
      "source": [
        "import tensorflow as tf\n",
        "from tensorflow.keras.layers import Dense, Flatten, Conv2D\n",
        "from tensorflow.keras import Model\n",
        "import pandas as pd\n",
        "import pymongo\n",
        "from pymongo import MongoClient\n",
        "import json\n",
        "import numpy as np\n",
        "from sklearn.model_selection import train_test_split\n",
        "from google.colab import drive\n",
        "drive.mount('/content/drive')"
      ],
      "execution_count": null,
      "outputs": []
    },
    {
      "cell_type": "code",
      "metadata": {
        "id": "_7Q6s32hFgwI"
      },
      "source": [
        "import csv\n",
        "import chardet\n",
        "\n",
        "with open(\"/content/drive/My Drive/Colab Notebooks/data.csv\", mode=\"rb\") as ifile:\n",
        "    # may need to increase byte count from 32 for better accuracy\n",
        "    raw_bytes = ifile.read(64)\n",
        "    encoding_name = chardet.detect(raw_bytes)[\"encoding\"]\n",
        "    "
      ],
      "execution_count": null,
      "outputs": []
    },
    {
      "cell_type": "code",
      "metadata": {
        "colab": {
          "base_uri": "https://localhost:8080/",
          "height": 35
        },
        "id": "wZShXuvaFkvF",
        "outputId": "8946d204-751d-4fc1-85bf-a2f9c75f42e0"
      },
      "source": [
        "encoding_name"
      ],
      "execution_count": null,
      "outputs": [
        {
          "output_type": "execute_result",
          "data": {
            "application/vnd.google.colaboratory.intrinsic+json": {
              "type": "string"
            },
            "text/plain": [
              "'ascii'"
            ]
          },
          "metadata": {},
          "execution_count": 128
        }
      ]
    },
    {
      "cell_type": "code",
      "metadata": {
        "colab": {
          "base_uri": "https://localhost:8080/",
          "height": 35
        },
        "id": "108li1Jp2AvX",
        "outputId": "5c3aa885-7d04-4939-b3fb-5610b638ea92"
      },
      "source": [
        "import os\n",
        "os. getcwd()"
      ],
      "execution_count": null,
      "outputs": [
        {
          "output_type": "execute_result",
          "data": {
            "application/vnd.google.colaboratory.intrinsic+json": {
              "type": "string"
            },
            "text/plain": [
              "'/content'"
            ]
          },
          "metadata": {},
          "execution_count": 99
        }
      ]
    },
    {
      "cell_type": "code",
      "metadata": {
        "id": "ECoQr3oZ3Eku",
        "colab": {
          "base_uri": "https://localhost:8080/",
          "height": 220
        },
        "outputId": "3b3dfe55-96c3-4938-cafd-b3f2ab363183"
      },
      "source": [
        "df=pd.read_csv(\"/content/drive/My Drive/Colab Notebooks/data.csv\", encoding='ascii',quotechar='\"', delimiter=',')\n",
        "df = df.iloc[: , 1:]\n",
        "df=df.dropna()"
      ],
      "execution_count": null,
      "outputs": [
        {
          "output_type": "error",
          "ename": "NameError",
          "evalue": "ignored",
          "traceback": [
            "\u001b[0;31m---------------------------------------------------------------------------\u001b[0m",
            "\u001b[0;31mNameError\u001b[0m                                 Traceback (most recent call last)",
            "\u001b[0;32m<ipython-input-1-1e83d2aa053e>\u001b[0m in \u001b[0;36m<module>\u001b[0;34m()\u001b[0m\n\u001b[0;32m----> 1\u001b[0;31m \u001b[0mdf\u001b[0m\u001b[0;34m=\u001b[0m\u001b[0mpd\u001b[0m\u001b[0;34m.\u001b[0m\u001b[0mread_csv\u001b[0m\u001b[0;34m(\u001b[0m\u001b[0;34m\"/content/drive/My Drive/Colab Notebooks/data.csv\"\u001b[0m\u001b[0;34m,\u001b[0m \u001b[0mencoding\u001b[0m\u001b[0;34m=\u001b[0m\u001b[0;34m'ascii'\u001b[0m\u001b[0;34m,\u001b[0m\u001b[0mquotechar\u001b[0m\u001b[0;34m=\u001b[0m\u001b[0;34m'\"'\u001b[0m\u001b[0;34m,\u001b[0m \u001b[0mdelimiter\u001b[0m\u001b[0;34m=\u001b[0m\u001b[0;34m','\u001b[0m\u001b[0;34m)\u001b[0m\u001b[0;34m\u001b[0m\u001b[0;34m\u001b[0m\u001b[0m\n\u001b[0m\u001b[1;32m      2\u001b[0m \u001b[0mdf\u001b[0m \u001b[0;34m=\u001b[0m \u001b[0mdf\u001b[0m\u001b[0;34m.\u001b[0m\u001b[0miloc\u001b[0m\u001b[0;34m[\u001b[0m\u001b[0;34m:\u001b[0m \u001b[0;34m,\u001b[0m \u001b[0;36m1\u001b[0m\u001b[0;34m:\u001b[0m\u001b[0;34m]\u001b[0m\u001b[0;34m\u001b[0m\u001b[0;34m\u001b[0m\u001b[0m\n\u001b[1;32m      3\u001b[0m \u001b[0mdf\u001b[0m\u001b[0;34m=\u001b[0m\u001b[0mdf\u001b[0m\u001b[0;34m.\u001b[0m\u001b[0mdropna\u001b[0m\u001b[0;34m(\u001b[0m\u001b[0;34m)\u001b[0m\u001b[0;34m\u001b[0m\u001b[0;34m\u001b[0m\u001b[0m\n",
            "\u001b[0;31mNameError\u001b[0m: name 'pd' is not defined"
          ]
        }
      ]
    },
    {
      "cell_type": "code",
      "metadata": {
        "colab": {
          "base_uri": "https://localhost:8080/",
          "height": 444
        },
        "id": "ToV4ubAuuXxc",
        "outputId": "fba22698-f597-4396-b5ac-557b0b36acad"
      },
      "source": [
        "df"
      ],
      "execution_count": null,
      "outputs": [
        {
          "output_type": "execute_result",
          "data": {
            "text/html": [
              "<div>\n",
              "<style scoped>\n",
              "    .dataframe tbody tr th:only-of-type {\n",
              "        vertical-align: middle;\n",
              "    }\n",
              "\n",
              "    .dataframe tbody tr th {\n",
              "        vertical-align: top;\n",
              "    }\n",
              "\n",
              "    .dataframe thead th {\n",
              "        text-align: right;\n",
              "    }\n",
              "</style>\n",
              "<table border=\"1\" class=\"dataframe\">\n",
              "  <thead>\n",
              "    <tr style=\"text-align: right;\">\n",
              "      <th></th>\n",
              "      <th>spam</th>\n",
              "      <th>commentCount</th>\n",
              "      <th>dislikeCount</th>\n",
              "      <th>likeCount</th>\n",
              "      <th>viewCount</th>\n",
              "      <th>defaultAudioLanguage</th>\n",
              "      <th>likeToViews</th>\n",
              "      <th>dislikeToViews</th>\n",
              "      <th>commentToViews</th>\n",
              "    </tr>\n",
              "  </thead>\n",
              "  <tbody>\n",
              "    <tr>\n",
              "      <th>0</th>\n",
              "      <td>0</td>\n",
              "      <td>1313</td>\n",
              "      <td>67</td>\n",
              "      <td>8732</td>\n",
              "      <td>123464</td>\n",
              "      <td>en</td>\n",
              "      <td>7.072507</td>\n",
              "      <td>0.054267</td>\n",
              "      <td>1.063468</td>\n",
              "    </tr>\n",
              "    <tr>\n",
              "      <th>1</th>\n",
              "      <td>0</td>\n",
              "      <td>1343</td>\n",
              "      <td>104</td>\n",
              "      <td>11478</td>\n",
              "      <td>213989</td>\n",
              "      <td>en</td>\n",
              "      <td>5.363827</td>\n",
              "      <td>0.048601</td>\n",
              "      <td>0.627602</td>\n",
              "    </tr>\n",
              "    <tr>\n",
              "      <th>2</th>\n",
              "      <td>0</td>\n",
              "      <td>1538</td>\n",
              "      <td>130</td>\n",
              "      <td>10866</td>\n",
              "      <td>250419</td>\n",
              "      <td>en</td>\n",
              "      <td>4.339128</td>\n",
              "      <td>0.051913</td>\n",
              "      <td>0.614171</td>\n",
              "    </tr>\n",
              "    <tr>\n",
              "      <th>3</th>\n",
              "      <td>0</td>\n",
              "      <td>2054</td>\n",
              "      <td>175</td>\n",
              "      <td>12464</td>\n",
              "      <td>271252</td>\n",
              "      <td>en</td>\n",
              "      <td>4.594989</td>\n",
              "      <td>0.064516</td>\n",
              "      <td>0.757229</td>\n",
              "    </tr>\n",
              "    <tr>\n",
              "      <th>4</th>\n",
              "      <td>0</td>\n",
              "      <td>2862</td>\n",
              "      <td>136</td>\n",
              "      <td>15737</td>\n",
              "      <td>283538</td>\n",
              "      <td>en</td>\n",
              "      <td>5.550226</td>\n",
              "      <td>0.047965</td>\n",
              "      <td>1.009389</td>\n",
              "    </tr>\n",
              "    <tr>\n",
              "      <th>...</th>\n",
              "      <td>...</td>\n",
              "      <td>...</td>\n",
              "      <td>...</td>\n",
              "      <td>...</td>\n",
              "      <td>...</td>\n",
              "      <td>...</td>\n",
              "      <td>...</td>\n",
              "      <td>...</td>\n",
              "      <td>...</td>\n",
              "    </tr>\n",
              "    <tr>\n",
              "      <th>79</th>\n",
              "      <td>1</td>\n",
              "      <td>0</td>\n",
              "      <td>0</td>\n",
              "      <td>12</td>\n",
              "      <td>137</td>\n",
              "      <td>en</td>\n",
              "      <td>8.759124</td>\n",
              "      <td>0.000000</td>\n",
              "      <td>0.000000</td>\n",
              "    </tr>\n",
              "    <tr>\n",
              "      <th>80</th>\n",
              "      <td>1</td>\n",
              "      <td>225</td>\n",
              "      <td>0</td>\n",
              "      <td>108</td>\n",
              "      <td>674</td>\n",
              "      <td>en</td>\n",
              "      <td>16.023739</td>\n",
              "      <td>0.000000</td>\n",
              "      <td>33.382789</td>\n",
              "    </tr>\n",
              "    <tr>\n",
              "      <th>81</th>\n",
              "      <td>1</td>\n",
              "      <td>3</td>\n",
              "      <td>0</td>\n",
              "      <td>5</td>\n",
              "      <td>57</td>\n",
              "      <td>US</td>\n",
              "      <td>8.771930</td>\n",
              "      <td>0.000000</td>\n",
              "      <td>5.263158</td>\n",
              "    </tr>\n",
              "    <tr>\n",
              "      <th>82</th>\n",
              "      <td>1</td>\n",
              "      <td>9</td>\n",
              "      <td>0</td>\n",
              "      <td>20</td>\n",
              "      <td>275</td>\n",
              "      <td>en</td>\n",
              "      <td>7.272727</td>\n",
              "      <td>0.000000</td>\n",
              "      <td>3.272727</td>\n",
              "    </tr>\n",
              "    <tr>\n",
              "      <th>83</th>\n",
              "      <td>0</td>\n",
              "      <td>454</td>\n",
              "      <td>132</td>\n",
              "      <td>965</td>\n",
              "      <td>12899</td>\n",
              "      <td>en</td>\n",
              "      <td>7.481200</td>\n",
              "      <td>1.023335</td>\n",
              "      <td>3.519653</td>\n",
              "    </tr>\n",
              "  </tbody>\n",
              "</table>\n",
              "<p>84 rows × 9 columns</p>\n",
              "</div>"
            ],
            "text/plain": [
              "    spam  commentCount  ...  dislikeToViews  commentToViews\n",
              "0      0          1313  ...        0.054267        1.063468\n",
              "1      0          1343  ...        0.048601        0.627602\n",
              "2      0          1538  ...        0.051913        0.614171\n",
              "3      0          2054  ...        0.064516        0.757229\n",
              "4      0          2862  ...        0.047965        1.009389\n",
              "..   ...           ...  ...             ...             ...\n",
              "79     1             0  ...        0.000000        0.000000\n",
              "80     1           225  ...        0.000000       33.382789\n",
              "81     1             3  ...        0.000000        5.263158\n",
              "82     1             9  ...        0.000000        3.272727\n",
              "83     0           454  ...        1.023335        3.519653\n",
              "\n",
              "[84 rows x 9 columns]"
            ]
          },
          "metadata": {},
          "execution_count": 354
        }
      ]
    },
    {
      "cell_type": "code",
      "metadata": {
        "id": "ooExYuaHuXzo"
      },
      "source": [
        ""
      ],
      "execution_count": null,
      "outputs": []
    },
    {
      "cell_type": "code",
      "metadata": {
        "id": "rqHu3rRtIg3Q"
      },
      "source": [
        "train, test = train_test_split(df, test_size=0.25)"
      ],
      "execution_count": null,
      "outputs": []
    },
    {
      "cell_type": "code",
      "metadata": {
        "id": "eyKq8Kfy31cR"
      },
      "source": [
        "y_train=train.pop(\"spam\")"
      ],
      "execution_count": null,
      "outputs": []
    },
    {
      "cell_type": "code",
      "metadata": {
        "id": "09DgclCz4dQt"
      },
      "source": [
        "y_test=test.pop(\"spam\")"
      ],
      "execution_count": null,
      "outputs": []
    },
    {
      "cell_type": "code",
      "metadata": {
        "id": "b1jZoHrHAxqY"
      },
      "source": [
        "feature_columns=[]\n",
        "\n",
        "for item in df.iloc[:,1:].columns:\n",
        "  if df[item].dtype !=\"O\":\n",
        "    feature_columns.append(tf.feature_column.numeric_column(item,dtype=tf.float32))\n",
        "  else:\n",
        "    vocabulary = dftrain[item].unique()\n",
        "    feature_columns.append(tf.feature_column.categorical_column_with_vocabulary_list(item,vocabulary))\n",
        "\n"
      ],
      "execution_count": null,
      "outputs": []
    },
    {
      "cell_type": "code",
      "metadata": {
        "colab": {
          "base_uri": "https://localhost:8080/"
        },
        "id": "PmNjMzA1POXH",
        "outputId": "dc8da041-0dd0-4923-8766-9be34c479cc6"
      },
      "source": [
        "feature_columns"
      ],
      "execution_count": null,
      "outputs": [
        {
          "output_type": "execute_result",
          "data": {
            "text/plain": [
              "[NumericColumn(key='commentCount', shape=(1,), default_value=None, dtype=tf.float32, normalizer_fn=None),\n",
              " NumericColumn(key='dislikeCount', shape=(1,), default_value=None, dtype=tf.float32, normalizer_fn=None),\n",
              " NumericColumn(key='likeCount', shape=(1,), default_value=None, dtype=tf.float32, normalizer_fn=None),\n",
              " NumericColumn(key='viewCount', shape=(1,), default_value=None, dtype=tf.float32, normalizer_fn=None),\n",
              " VocabularyListCategoricalColumn(key='defaultAudioLanguage', vocabulary_list=('en', 'US', 'GB', 'hi'), dtype=tf.string, default_value=-1, num_oov_buckets=0),\n",
              " NumericColumn(key='likeToViews', shape=(1,), default_value=None, dtype=tf.float32, normalizer_fn=None),\n",
              " NumericColumn(key='dislikeToViews', shape=(1,), default_value=None, dtype=tf.float32, normalizer_fn=None),\n",
              " NumericColumn(key='commentToViews', shape=(1,), default_value=None, dtype=tf.float32, normalizer_fn=None)]"
            ]
          },
          "metadata": {},
          "execution_count": 359
        }
      ]
    },
    {
      "cell_type": "code",
      "metadata": {
        "id": "Fqanixvh40lF"
      },
      "source": [
        "def make_input_fn(data_df, label_df, num_epochs=10, shuffle=True, batch_size=32):\n",
        "  def input_function():\n",
        "    ds = tf.data.Dataset.from_tensor_slices((dict(data_df), label_df))\n",
        "    if shuffle:\n",
        "      ds = ds.shuffle(1000)\n",
        "    ds = ds.batch(batch_size).repeat(num_epochs)\n",
        "    return ds\n",
        "  return input_function\n",
        "\n",
        "\n"
      ],
      "execution_count": null,
      "outputs": []
    },
    {
      "cell_type": "code",
      "metadata": {
        "id": "xJUVvYAD6h8G"
      },
      "source": [
        "train_input_fn = make_input_fn(train, y_train)\n",
        "test_input_fn = make_input_fn(test, y_test, num_epochs=1, shuffle=False)"
      ],
      "execution_count": null,
      "outputs": []
    },
    {
      "cell_type": "code",
      "metadata": {
        "colab": {
          "base_uri": "https://localhost:8080/"
        },
        "id": "bz46tp7R6reh",
        "outputId": "354e33b0-c7d6-4b64-fed2-dc63a13994fc"
      },
      "source": [
        "train_input_fn"
      ],
      "execution_count": null,
      "outputs": [
        {
          "output_type": "execute_result",
          "data": {
            "text/plain": [
              "<function __main__.make_input_fn.<locals>.input_function>"
            ]
          },
          "metadata": {},
          "execution_count": 362
        }
      ]
    },
    {
      "cell_type": "code",
      "metadata": {
        "colab": {
          "base_uri": "https://localhost:8080/"
        },
        "id": "5nI6c4LT6_Fl",
        "outputId": "40b53e36-266c-4926-f653-f366aed10fde"
      },
      "source": [
        "linear_est=tf.estimator.LinearClassifier(feature_columns=feature_columns)"
      ],
      "execution_count": null,
      "outputs": [
        {
          "output_type": "stream",
          "name": "stdout",
          "text": [
            "INFO:tensorflow:Using default config.\n",
            "WARNING:tensorflow:Using temporary folder as model directory: /tmp/tmp38gqnl0t\n",
            "INFO:tensorflow:Using config: {'_model_dir': '/tmp/tmp38gqnl0t', '_tf_random_seed': None, '_save_summary_steps': 100, '_save_checkpoints_steps': None, '_save_checkpoints_secs': 600, '_session_config': allow_soft_placement: true\n",
            "graph_options {\n",
            "  rewrite_options {\n",
            "    meta_optimizer_iterations: ONE\n",
            "  }\n",
            "}\n",
            ", '_keep_checkpoint_max': 5, '_keep_checkpoint_every_n_hours': 10000, '_log_step_count_steps': 100, '_train_distribute': None, '_device_fn': None, '_protocol': None, '_eval_distribute': None, '_experimental_distribute': None, '_experimental_max_worker_delay_secs': None, '_session_creation_timeout_secs': 7200, '_checkpoint_save_graph_def': True, '_service': None, '_cluster_spec': ClusterSpec({}), '_task_type': 'worker', '_task_id': 0, '_global_id_in_cluster': 0, '_master': '', '_evaluation_master': '', '_is_chief': True, '_num_ps_replicas': 0, '_num_worker_replicas': 1}\n"
          ]
        }
      ]
    },
    {
      "cell_type": "code",
      "metadata": {
        "colab": {
          "base_uri": "https://localhost:8080/"
        },
        "id": "NtV733Q27mgC",
        "outputId": "4e078504-391e-4c80-9aef-3e37583b9b28"
      },
      "source": [
        "linear_est.train(train_input_fn)\n"
      ],
      "execution_count": null,
      "outputs": [
        {
          "output_type": "stream",
          "name": "stdout",
          "text": [
            "INFO:tensorflow:Calling model_fn.\n"
          ]
        },
        {
          "output_type": "stream",
          "name": "stderr",
          "text": [
            "/usr/local/lib/python3.7/dist-packages/keras/engine/base_layer_v1.py:1684: UserWarning: `layer.add_variable` is deprecated and will be removed in a future version. Please use `layer.add_weight` method instead.\n",
            "  warnings.warn('`layer.add_variable` is deprecated and '\n"
          ]
        },
        {
          "output_type": "stream",
          "name": "stdout",
          "text": [
            "INFO:tensorflow:Done calling model_fn.\n",
            "INFO:tensorflow:Create CheckpointSaverHook.\n",
            "INFO:tensorflow:Graph was finalized.\n",
            "INFO:tensorflow:Restoring parameters from /tmp/tmp38gqnl0t/model.ckpt-80\n",
            "INFO:tensorflow:Running local_init_op.\n",
            "INFO:tensorflow:Done running local_init_op.\n",
            "INFO:tensorflow:Calling checkpoint listeners before saving checkpoint 80...\n",
            "INFO:tensorflow:Saving checkpoints for 80 into /tmp/tmp38gqnl0t/model.ckpt.\n",
            "INFO:tensorflow:Calling checkpoint listeners after saving checkpoint 80...\n",
            "INFO:tensorflow:loss = 23.304405, step = 80\n",
            "INFO:tensorflow:Calling checkpoint listeners before saving checkpoint 100...\n",
            "INFO:tensorflow:Saving checkpoints for 100 into /tmp/tmp38gqnl0t/model.ckpt.\n",
            "WARNING:tensorflow:From /usr/local/lib/python3.7/dist-packages/tensorflow/python/training/saver.py:971: remove_checkpoint (from tensorflow.python.training.checkpoint_management) is deprecated and will be removed in a future version.\n",
            "Instructions for updating:\n",
            "Use standard file APIs to delete files with this prefix.\n",
            "INFO:tensorflow:Calling checkpoint listeners after saving checkpoint 100...\n",
            "INFO:tensorflow:Loss for final step: 76.225975.\n"
          ]
        },
        {
          "output_type": "execute_result",
          "data": {
            "text/plain": [
              "<tensorflow_estimator.python.estimator.canned.linear.LinearClassifierV2 at 0x7f08da707a90>"
            ]
          },
          "metadata": {},
          "execution_count": 370
        }
      ]
    },
    {
      "cell_type": "code",
      "metadata": {
        "colab": {
          "base_uri": "https://localhost:8080/"
        },
        "id": "5E1uXhMCvsHp",
        "outputId": "0cab8808-f610-46da-8247-8714110d1d12"
      },
      "source": [
        "result=linear_est.evaluate(test_input_fn)"
      ],
      "execution_count": null,
      "outputs": [
        {
          "output_type": "stream",
          "name": "stdout",
          "text": [
            "INFO:tensorflow:Calling model_fn.\n"
          ]
        },
        {
          "output_type": "stream",
          "name": "stderr",
          "text": [
            "/usr/local/lib/python3.7/dist-packages/keras/engine/base_layer_v1.py:1684: UserWarning: `layer.add_variable` is deprecated and will be removed in a future version. Please use `layer.add_weight` method instead.\n",
            "  warnings.warn('`layer.add_variable` is deprecated and '\n"
          ]
        },
        {
          "output_type": "stream",
          "name": "stdout",
          "text": [
            "INFO:tensorflow:Done calling model_fn.\n",
            "INFO:tensorflow:Starting evaluation at 2021-09-11T02:45:42\n",
            "INFO:tensorflow:Graph was finalized.\n",
            "INFO:tensorflow:Restoring parameters from /tmp/tmp38gqnl0t/model.ckpt-100\n",
            "INFO:tensorflow:Running local_init_op.\n",
            "INFO:tensorflow:Done running local_init_op.\n",
            "INFO:tensorflow:Inference Time : 0.79790s\n",
            "INFO:tensorflow:Finished evaluation at 2021-09-11-02:45:43\n",
            "INFO:tensorflow:Saving dict for global step 100: accuracy = 0.8095238, accuracy_baseline = 0.52380955, auc = 0.85, auc_precision_recall = 0.8937651, average_loss = 17.212, global_step = 100, label/mean = 0.47619048, loss = 17.212, precision = 1.0, prediction/mean = 0.2863466, recall = 0.6\n",
            "INFO:tensorflow:Saving 'checkpoint_path' summary for global step 100: /tmp/tmp38gqnl0t/model.ckpt-100\n"
          ]
        }
      ]
    },
    {
      "cell_type": "code",
      "metadata": {
        "colab": {
          "base_uri": "https://localhost:8080/"
        },
        "id": "rPZ-sWsG8V51",
        "outputId": "03f9fbf9-889d-4968-b6c5-cc1ddebda43f"
      },
      "source": [
        "print(result[\"accuracy\"])\n",
        "print(result)"
      ],
      "execution_count": null,
      "outputs": [
        {
          "output_type": "stream",
          "name": "stdout",
          "text": [
            "0.8095238\n",
            "{'accuracy': 0.8095238, 'accuracy_baseline': 0.52380955, 'auc': 0.85, 'auc_precision_recall': 0.8937651, 'average_loss': 17.212, 'label/mean': 0.47619048, 'loss': 17.212, 'precision': 1.0, 'prediction/mean': 0.2863466, 'recall': 0.6, 'global_step': 100}\n"
          ]
        }
      ]
    },
    {
      "cell_type": "code",
      "metadata": {
        "colab": {
          "base_uri": "https://localhost:8080/",
          "height": 444
        },
        "id": "6qlpqN5f8bv0",
        "outputId": "7b5be807-3734-422d-9e6e-537d5f2db123"
      },
      "source": [
        "df"
      ],
      "execution_count": null,
      "outputs": [
        {
          "output_type": "execute_result",
          "data": {
            "text/html": [
              "<div>\n",
              "<style scoped>\n",
              "    .dataframe tbody tr th:only-of-type {\n",
              "        vertical-align: middle;\n",
              "    }\n",
              "\n",
              "    .dataframe tbody tr th {\n",
              "        vertical-align: top;\n",
              "    }\n",
              "\n",
              "    .dataframe thead th {\n",
              "        text-align: right;\n",
              "    }\n",
              "</style>\n",
              "<table border=\"1\" class=\"dataframe\">\n",
              "  <thead>\n",
              "    <tr style=\"text-align: right;\">\n",
              "      <th></th>\n",
              "      <th>spam</th>\n",
              "      <th>commentCount</th>\n",
              "      <th>dislikeCount</th>\n",
              "      <th>likeCount</th>\n",
              "      <th>viewCount</th>\n",
              "      <th>defaultAudioLanguage</th>\n",
              "      <th>likeToViews</th>\n",
              "      <th>dislikeToViews</th>\n",
              "    </tr>\n",
              "  </thead>\n",
              "  <tbody>\n",
              "    <tr>\n",
              "      <th>0</th>\n",
              "      <td>0</td>\n",
              "      <td>1313</td>\n",
              "      <td>67</td>\n",
              "      <td>8732</td>\n",
              "      <td>123464</td>\n",
              "      <td>en</td>\n",
              "      <td>0.0708</td>\n",
              "      <td>0.0005</td>\n",
              "    </tr>\n",
              "    <tr>\n",
              "      <th>1</th>\n",
              "      <td>0</td>\n",
              "      <td>1343</td>\n",
              "      <td>104</td>\n",
              "      <td>11478</td>\n",
              "      <td>213989</td>\n",
              "      <td>en</td>\n",
              "      <td>0.0536</td>\n",
              "      <td>0.0005</td>\n",
              "    </tr>\n",
              "    <tr>\n",
              "      <th>2</th>\n",
              "      <td>0</td>\n",
              "      <td>1538</td>\n",
              "      <td>130</td>\n",
              "      <td>10866</td>\n",
              "      <td>250419</td>\n",
              "      <td>en</td>\n",
              "      <td>0.0434</td>\n",
              "      <td>0.0005</td>\n",
              "    </tr>\n",
              "    <tr>\n",
              "      <th>3</th>\n",
              "      <td>0</td>\n",
              "      <td>2054</td>\n",
              "      <td>175</td>\n",
              "      <td>12464</td>\n",
              "      <td>271252</td>\n",
              "      <td>en</td>\n",
              "      <td>0.0460</td>\n",
              "      <td>0.0006</td>\n",
              "    </tr>\n",
              "    <tr>\n",
              "      <th>4</th>\n",
              "      <td>0</td>\n",
              "      <td>2862</td>\n",
              "      <td>136</td>\n",
              "      <td>15737</td>\n",
              "      <td>283538</td>\n",
              "      <td>en</td>\n",
              "      <td>0.0555</td>\n",
              "      <td>0.0005</td>\n",
              "    </tr>\n",
              "    <tr>\n",
              "      <th>...</th>\n",
              "      <td>...</td>\n",
              "      <td>...</td>\n",
              "      <td>...</td>\n",
              "      <td>...</td>\n",
              "      <td>...</td>\n",
              "      <td>...</td>\n",
              "      <td>...</td>\n",
              "      <td>...</td>\n",
              "    </tr>\n",
              "    <tr>\n",
              "      <th>663</th>\n",
              "      <td>1</td>\n",
              "      <td>0</td>\n",
              "      <td>0</td>\n",
              "      <td>12</td>\n",
              "      <td>137</td>\n",
              "      <td>en</td>\n",
              "      <td>0.0876</td>\n",
              "      <td>0.0000</td>\n",
              "    </tr>\n",
              "    <tr>\n",
              "      <th>664</th>\n",
              "      <td>1</td>\n",
              "      <td>225</td>\n",
              "      <td>0</td>\n",
              "      <td>108</td>\n",
              "      <td>674</td>\n",
              "      <td>en</td>\n",
              "      <td>0.1603</td>\n",
              "      <td>0.0000</td>\n",
              "    </tr>\n",
              "    <tr>\n",
              "      <th>665</th>\n",
              "      <td>1</td>\n",
              "      <td>3</td>\n",
              "      <td>0</td>\n",
              "      <td>5</td>\n",
              "      <td>57</td>\n",
              "      <td>US</td>\n",
              "      <td>0.0877</td>\n",
              "      <td>0.0000</td>\n",
              "    </tr>\n",
              "    <tr>\n",
              "      <th>666</th>\n",
              "      <td>1</td>\n",
              "      <td>9</td>\n",
              "      <td>0</td>\n",
              "      <td>20</td>\n",
              "      <td>275</td>\n",
              "      <td>en</td>\n",
              "      <td>0.0728</td>\n",
              "      <td>0.0000</td>\n",
              "    </tr>\n",
              "    <tr>\n",
              "      <th>667</th>\n",
              "      <td>0</td>\n",
              "      <td>454</td>\n",
              "      <td>132</td>\n",
              "      <td>965</td>\n",
              "      <td>12899</td>\n",
              "      <td>en</td>\n",
              "      <td>0.0748</td>\n",
              "      <td>0.0102</td>\n",
              "    </tr>\n",
              "  </tbody>\n",
              "</table>\n",
              "<p>668 rows × 8 columns</p>\n",
              "</div>"
            ],
            "text/plain": [
              "     spam  commentCount  ...  likeToViews  dislikeToViews\n",
              "0       0          1313  ...       0.0708          0.0005\n",
              "1       0          1343  ...       0.0536          0.0005\n",
              "2       0          1538  ...       0.0434          0.0005\n",
              "3       0          2054  ...       0.0460          0.0006\n",
              "4       0          2862  ...       0.0555          0.0005\n",
              "..    ...           ...  ...          ...             ...\n",
              "663     1             0  ...       0.0876          0.0000\n",
              "664     1           225  ...       0.1603          0.0000\n",
              "665     1             3  ...       0.0877          0.0000\n",
              "666     1             9  ...       0.0728          0.0000\n",
              "667     0           454  ...       0.0748          0.0102\n",
              "\n",
              "[668 rows x 8 columns]"
            ]
          },
          "metadata": {},
          "execution_count": 251
        }
      ]
    },
    {
      "cell_type": "code",
      "metadata": {
        "id": "0GiRxpXEHw19"
      },
      "source": [
        ""
      ],
      "execution_count": null,
      "outputs": []
    }
  ]
}