{
  "nbformat": 4,
  "nbformat_minor": 0,
  "metadata": {
    "colab": {
      "name": "textFromImages.ipynb",
      "provenance": [],
      "collapsed_sections": []
    },
    "kernelspec": {
      "name": "python3",
      "display_name": "Python 3"
    },
    "language_info": {
      "name": "python"
    }
  },
  "cells": [
    {
      "cell_type": "code",
      "metadata": {
        "colab": {
          "base_uri": "https://localhost:8080/"
        },
        "id": "vnaSj5dyB3OB",
        "outputId": "28a0454d-fc3c-4443-ae40-3a2de5c8b5fc"
      },
      "source": [
        "import tensorflow as tf\n",
        "from tensorflow.keras.layers import Dense, Flatten, Conv2D\n",
        "from tensorflow.keras import Model\n",
        "import pandas as pd\n",
        "import pymongo\n",
        "from pymongo import MongoClient\n",
        "import json\n",
        "import numpy as np\n",
        "from sklearn.model_selection import train_test_split\n",
        "from google.colab import drive\n",
        "import urllib.request\n",
        "drive.mount('/content/drive')\n",
        "import os\n"
      ],
      "execution_count": null,
      "outputs": [
        {
          "output_type": "stream",
          "name": "stdout",
          "text": [
            "Mounted at /content/drive\n"
          ]
        }
      ]
    },
    {
      "cell_type": "code",
      "metadata": {
        "colab": {
          "base_uri": "https://localhost:8080/"
        },
        "id": "fttnJcO0yDNt",
        "outputId": "518b54e2-f88b-4356-9de6-fb7d4b446d49"
      },
      "source": [
        "!apt install -qq enchant\n",
        "!pip install pyenchant\n",
        "!sudo apt install tesseract-ocr\n",
        "!pip install pytesseract"
      ],
      "execution_count": null,
      "outputs": [
        {
          "output_type": "stream",
          "name": "stdout",
          "text": [
            "The following additional packages will be installed:\n",
            "  aspell aspell-en dictionaries-common emacsen-common hunspell-en-us\n",
            "  libaspell15 libenchant1c2a libhunspell-1.6-0 libtext-iconv-perl\n",
            "Suggested packages:\n",
            "  aspell-doc spellutils wordlist hunspell openoffice.org-hunspell\n",
            "  | openoffice.org-core libenchant-voikko\n",
            "The following NEW packages will be installed:\n",
            "  aspell aspell-en dictionaries-common emacsen-common enchant hunspell-en-us\n",
            "  libaspell15 libenchant1c2a libhunspell-1.6-0 libtext-iconv-perl\n",
            "0 upgraded, 10 newly installed, 0 to remove and 40 not upgraded.\n",
            "Need to get 1,312 kB of archives.\n",
            "After this operation, 5,353 kB of additional disk space will be used.\n",
            "Preconfiguring packages ...\n",
            "Selecting previously unselected package libtext-iconv-perl.\n",
            "(Reading database ... 148492 files and directories currently installed.)\n",
            "Preparing to unpack .../0-libtext-iconv-perl_1.7-5build6_amd64.deb ...\n",
            "Unpacking libtext-iconv-perl (1.7-5build6) ...\n",
            "Selecting previously unselected package libaspell15:amd64.\n",
            "Preparing to unpack .../1-libaspell15_0.60.7~20110707-4ubuntu0.2_amd64.deb ...\n",
            "Unpacking libaspell15:amd64 (0.60.7~20110707-4ubuntu0.2) ...\n",
            "Selecting previously unselected package emacsen-common.\n",
            "Preparing to unpack .../2-emacsen-common_2.0.8_all.deb ...\n",
            "Unpacking emacsen-common (2.0.8) ...\n",
            "Selecting previously unselected package dictionaries-common.\n",
            "Preparing to unpack .../3-dictionaries-common_1.27.2_all.deb ...\n",
            "Adding 'diversion of /usr/share/dict/words to /usr/share/dict/words.pre-dictionaries-common by dictionaries-common'\n",
            "Unpacking dictionaries-common (1.27.2) ...\n",
            "Selecting previously unselected package aspell.\n",
            "Preparing to unpack .../4-aspell_0.60.7~20110707-4ubuntu0.2_amd64.deb ...\n",
            "Unpacking aspell (0.60.7~20110707-4ubuntu0.2) ...\n",
            "Selecting previously unselected package aspell-en.\n",
            "Preparing to unpack .../5-aspell-en_2017.08.24-0-0.1_all.deb ...\n",
            "Unpacking aspell-en (2017.08.24-0-0.1) ...\n",
            "Selecting previously unselected package hunspell-en-us.\n",
            "Preparing to unpack .../6-hunspell-en-us_1%3a2017.08.24_all.deb ...\n",
            "Unpacking hunspell-en-us (1:2017.08.24) ...\n",
            "Selecting previously unselected package libhunspell-1.6-0:amd64.\n",
            "Preparing to unpack .../7-libhunspell-1.6-0_1.6.2-1_amd64.deb ...\n",
            "Unpacking libhunspell-1.6-0:amd64 (1.6.2-1) ...\n",
            "Selecting previously unselected package libenchant1c2a:amd64.\n",
            "Preparing to unpack .../8-libenchant1c2a_1.6.0-11.1_amd64.deb ...\n",
            "Unpacking libenchant1c2a:amd64 (1.6.0-11.1) ...\n",
            "Selecting previously unselected package enchant.\n",
            "Preparing to unpack .../9-enchant_1.6.0-11.1_amd64.deb ...\n",
            "Unpacking enchant (1.6.0-11.1) ...\n",
            "Setting up libhunspell-1.6-0:amd64 (1.6.2-1) ...\n",
            "Setting up libaspell15:amd64 (0.60.7~20110707-4ubuntu0.2) ...\n",
            "Setting up emacsen-common (2.0.8) ...\n",
            "Setting up libtext-iconv-perl (1.7-5build6) ...\n",
            "Setting up dictionaries-common (1.27.2) ...\n",
            "Setting up aspell (0.60.7~20110707-4ubuntu0.2) ...\n",
            "Setting up hunspell-en-us (1:2017.08.24) ...\n",
            "Setting up libenchant1c2a:amd64 (1.6.0-11.1) ...\n",
            "Setting up aspell-en (2017.08.24-0-0.1) ...\n",
            "Setting up enchant (1.6.0-11.1) ...\n",
            "Processing triggers for libc-bin (2.27-3ubuntu1.2) ...\n",
            "/sbin/ldconfig.real: /usr/local/lib/python3.7/dist-packages/ideep4py/lib/libmkldnn.so.0 is not a symbolic link\n",
            "\n",
            "Processing triggers for man-db (2.8.3-2ubuntu0.1) ...\n",
            "Processing triggers for dictionaries-common (1.27.2) ...\n",
            "aspell-autobuildhash: processing: en [en-common].\n",
            "aspell-autobuildhash: processing: en [en-variant_0].\n",
            "aspell-autobuildhash: processing: en [en-variant_1].\n",
            "aspell-autobuildhash: processing: en [en-variant_2].\n",
            "aspell-autobuildhash: processing: en [en-w_accents-only].\n",
            "aspell-autobuildhash: processing: en [en-wo_accents-only].\n",
            "aspell-autobuildhash: processing: en [en_AU-variant_0].\n",
            "aspell-autobuildhash: processing: en [en_AU-variant_1].\n",
            "aspell-autobuildhash: processing: en [en_AU-w_accents-only].\n",
            "aspell-autobuildhash: processing: en [en_AU-wo_accents-only].\n",
            "aspell-autobuildhash: processing: en [en_CA-variant_0].\n",
            "aspell-autobuildhash: processing: en [en_CA-variant_1].\n",
            "aspell-autobuildhash: processing: en [en_CA-w_accents-only].\n",
            "aspell-autobuildhash: processing: en [en_CA-wo_accents-only].\n",
            "aspell-autobuildhash: processing: en [en_GB-ise-w_accents-only].\n",
            "aspell-autobuildhash: processing: en [en_GB-ise-wo_accents-only].\n",
            "aspell-autobuildhash: processing: en [en_GB-ize-w_accents-only].\n",
            "aspell-autobuildhash: processing: en [en_GB-ize-wo_accents-only].\n",
            "aspell-autobuildhash: processing: en [en_GB-variant_0].\n",
            "aspell-autobuildhash: processing: en [en_GB-variant_1].\n",
            "aspell-autobuildhash: processing: en [en_US-w_accents-only].\n",
            "aspell-autobuildhash: processing: en [en_US-wo_accents-only].\n",
            "Collecting pyenchant\n",
            "  Downloading pyenchant-3.2.1-py3-none-any.whl (55 kB)\n",
            "\u001b[K     |████████████████████████████████| 55 kB 2.0 MB/s \n",
            "\u001b[?25hInstalling collected packages: pyenchant\n",
            "Successfully installed pyenchant-3.2.1\n",
            "Reading package lists... Done\n",
            "Building dependency tree       \n",
            "Reading state information... Done\n",
            "The following additional packages will be installed:\n",
            "  tesseract-ocr-eng tesseract-ocr-osd\n",
            "The following NEW packages will be installed:\n",
            "  tesseract-ocr tesseract-ocr-eng tesseract-ocr-osd\n",
            "0 upgraded, 3 newly installed, 0 to remove and 40 not upgraded.\n",
            "Need to get 4,795 kB of archives.\n",
            "After this operation, 15.8 MB of additional disk space will be used.\n",
            "Get:1 http://archive.ubuntu.com/ubuntu bionic/universe amd64 tesseract-ocr-eng all 4.00~git24-0e00fe6-1.2 [1,588 kB]\n",
            "Get:2 http://archive.ubuntu.com/ubuntu bionic/universe amd64 tesseract-ocr-osd all 4.00~git24-0e00fe6-1.2 [2,989 kB]\n",
            "Get:3 http://archive.ubuntu.com/ubuntu bionic/universe amd64 tesseract-ocr amd64 4.00~git2288-10f4998a-2 [218 kB]\n",
            "Fetched 4,795 kB in 3s (1,773 kB/s)\n",
            "debconf: unable to initialize frontend: Dialog\n",
            "debconf: (No usable dialog-like program is installed, so the dialog based frontend cannot be used. at /usr/share/perl5/Debconf/FrontEnd/Dialog.pm line 76, <> line 3.)\n",
            "debconf: falling back to frontend: Readline\n",
            "debconf: unable to initialize frontend: Readline\n",
            "debconf: (This frontend requires a controlling tty.)\n",
            "debconf: falling back to frontend: Teletype\n",
            "dpkg-preconfigure: unable to re-open stdin: \n",
            "Selecting previously unselected package tesseract-ocr-eng.\n",
            "(Reading database ... 148906 files and directories currently installed.)\n",
            "Preparing to unpack .../tesseract-ocr-eng_4.00~git24-0e00fe6-1.2_all.deb ...\n",
            "Unpacking tesseract-ocr-eng (4.00~git24-0e00fe6-1.2) ...\n",
            "Selecting previously unselected package tesseract-ocr-osd.\n",
            "Preparing to unpack .../tesseract-ocr-osd_4.00~git24-0e00fe6-1.2_all.deb ...\n",
            "Unpacking tesseract-ocr-osd (4.00~git24-0e00fe6-1.2) ...\n",
            "Selecting previously unselected package tesseract-ocr.\n",
            "Preparing to unpack .../tesseract-ocr_4.00~git2288-10f4998a-2_amd64.deb ...\n",
            "Unpacking tesseract-ocr (4.00~git2288-10f4998a-2) ...\n",
            "Setting up tesseract-ocr-osd (4.00~git24-0e00fe6-1.2) ...\n",
            "Setting up tesseract-ocr-eng (4.00~git24-0e00fe6-1.2) ...\n",
            "Setting up tesseract-ocr (4.00~git2288-10f4998a-2) ...\n",
            "Processing triggers for man-db (2.8.3-2ubuntu0.1) ...\n",
            "Collecting pytesseract\n",
            "  Downloading pytesseract-0.3.8.tar.gz (14 kB)\n",
            "Requirement already satisfied: Pillow in /usr/local/lib/python3.7/dist-packages (from pytesseract) (7.1.2)\n",
            "Building wheels for collected packages: pytesseract\n",
            "  Building wheel for pytesseract (setup.py) ... \u001b[?25l\u001b[?25hdone\n",
            "  Created wheel for pytesseract: filename=pytesseract-0.3.8-py2.py3-none-any.whl size=14072 sha256=5e168f5a9682048b059abf189862adde47517d6fd250a545135c76439b1b2993\n",
            "  Stored in directory: /root/.cache/pip/wheels/a4/89/b9/3f11250225d0f90e5454fcc30fd1b7208db226850715aa9ace\n",
            "Successfully built pytesseract\n",
            "Installing collected packages: pytesseract\n",
            "Successfully installed pytesseract-0.3.8\n"
          ]
        }
      ]
    },
    {
      "cell_type": "code",
      "metadata": {
        "id": "kJd3sW9w2GY6"
      },
      "source": [
        "import pytesseract\n",
        "import shutil\n",
        "import os\n",
        "import random\n",
        "try:\n",
        " from PIL import Image\n",
        "except ImportError:\n",
        " import Image"
      ],
      "execution_count": null,
      "outputs": []
    },
    {
      "cell_type": "code",
      "metadata": {
        "id": "UZC2IKSBCM1y"
      },
      "source": [
        "df=pd.read_csv(\"/content/drive/My Drive/Colab Notebooks/imagedata.csv\", encoding='ascii',quotechar='\"', delimiter=',')\n",
        "df = df.iloc[: , 1:]\n",
        "df=df.dropna()"
      ],
      "execution_count": null,
      "outputs": []
    },
    {
      "cell_type": "code",
      "metadata": {
        "colab": {
          "base_uri": "https://localhost:8080/",
          "height": 168
        },
        "id": "Mq78MRyJCzEr",
        "outputId": "da22f19f-f6e0-40d7-aa65-13a827f46426"
      },
      "source": [
        "os.chdir(\"drive/MyDrive/Colab Notebooks/YT\")"
      ],
      "execution_count": null,
      "outputs": [
        {
          "output_type": "error",
          "ename": "FileNotFoundError",
          "evalue": "ignored",
          "traceback": [
            "\u001b[0;31m---------------------------------------------------------------------------\u001b[0m",
            "\u001b[0;31mFileNotFoundError\u001b[0m                         Traceback (most recent call last)",
            "\u001b[0;32m<ipython-input-15-32e1009eae33>\u001b[0m in \u001b[0;36m<module>\u001b[0;34m()\u001b[0m\n\u001b[0;32m----> 1\u001b[0;31m \u001b[0mos\u001b[0m\u001b[0;34m.\u001b[0m\u001b[0mchdir\u001b[0m\u001b[0;34m(\u001b[0m\u001b[0;34m\"drive/MyDrive/Colab Notebooks/YT\"\u001b[0m\u001b[0;34m)\u001b[0m\u001b[0;34m\u001b[0m\u001b[0;34m\u001b[0m\u001b[0m\n\u001b[0m",
            "\u001b[0;31mFileNotFoundError\u001b[0m: [Errno 2] No such file or directory: 'drive/MyDrive/Colab Notebooks/YT'"
          ]
        }
      ]
    },
    {
      "cell_type": "code",
      "metadata": {
        "id": "P2uiWtjIBbfS",
        "colab": {
          "base_uri": "https://localhost:8080/"
        },
        "outputId": "1a931168-3b6b-435b-cadf-67f78bda75d2"
      },
      "source": [
        "counter=0\n",
        "for item in df[\"thumbnails\"]:\n",
        "  df1=df[(df.spam == 1) & (df.thumbnails == item)]\n",
        "  df2=df[(df.spam == 0) & (df.thumbnails == item)]\n",
        "  itemcode =item.split(\"/\")[4]\n",
        "  if len(df1)>0:\n",
        "    urllib.request.urlretrieve(item, f\"{itemcode}_1.jpg\")\n",
        "    counter+=1\n",
        "  elif  len(df2)>0:\n",
        "    urllib.request.urlretrieve(item, f\"{itemcode}_0.jpg\")\n",
        "    counter+=1\n",
        "  else:\n",
        "    print(df1)\n",
        "    print(df2)\n",
        "    raise Exception\n",
        "print(counter)"
      ],
      "execution_count": null,
      "outputs": [
        {
          "output_type": "stream",
          "name": "stdout",
          "text": [
            "809\n"
          ]
        }
      ]
    },
    {
      "cell_type": "markdown",
      "metadata": {
        "id": "1jENMNHjPdEG"
      },
      "source": [
        ""
      ]
    },
    {
      "cell_type": "code",
      "metadata": {
        "id": "pEMj4iinOkXt"
      },
      "source": [
        "for item in df[\"thumbnails\"].loc[df[\"spam\"]==1]:\n",
        "    itemcode =item.split(\"/\")[4]\n",
        "    urllib.request.urlretrieve(item, f\"{itemcode}_1.jpg\")\n",
        "\n",
        "for item in df[\"thumbnails\"].loc[df[\"spam\"]==0]:\n",
        "    itemcode =item.split(\"/\")[4]\n",
        "    urllib.request.urlretrieve(item, f\"{itemcode}_0.jpg\")\n"
      ],
      "execution_count": null,
      "outputs": []
    },
    {
      "cell_type": "markdown",
      "metadata": {
        "id": "otF9QdDARG-g"
      },
      "source": [
        ""
      ]
    },
    {
      "cell_type": "code",
      "metadata": {
        "id": "eXlrrEXDPxkm"
      },
      "source": [
        "string=\"https://i.ytimg.com/vi/wx5wxdRU6Ws/default.jpg\""
      ],
      "execution_count": null,
      "outputs": []
    },
    {
      "cell_type": "code",
      "metadata": {
        "colab": {
          "base_uri": "https://localhost:8080/",
          "height": 35
        },
        "id": "oNXxE0BcRJT0",
        "outputId": "94d27c15-112b-407f-9c09-30837a19dfd5"
      },
      "source": [
        "string.split(\"/\")[4]"
      ],
      "execution_count": null,
      "outputs": [
        {
          "output_type": "execute_result",
          "data": {
            "application/vnd.google.colaboratory.intrinsic+json": {
              "type": "string"
            },
            "text/plain": [
              "'wx5wxdRU6Ws'"
            ]
          },
          "metadata": {},
          "execution_count": 68
        }
      ]
    },
    {
      "cell_type": "code",
      "metadata": {
        "colab": {
          "base_uri": "https://localhost:8080/"
        },
        "id": "sHOXXTLnyc1Y",
        "outputId": "dcd9369f-5671-4803-897b-6ab7c57b10aa"
      },
      "source": [
        "len(os.listdir())"
      ],
      "execution_count": null,
      "outputs": [
        {
          "output_type": "execute_result",
          "data": {
            "text/plain": [
              "106"
            ]
          },
          "metadata": {},
          "execution_count": 158
        }
      ]
    },
    {
      "cell_type": "code",
      "metadata": {
        "id": "hbFJ70rVRNae"
      },
      "source": [
        "import matplotlib.pyplot as plt\n",
        "import cv2"
      ],
      "execution_count": null,
      "outputs": []
    },
    {
      "cell_type": "code",
      "metadata": {
        "id": "iQqxoOB7xcXx"
      },
      "source": [
        "im = cv2.imread(\"TMTqt2EUIfA_0.jpg\", cv2.IMREAD_COLOR)"
      ],
      "execution_count": null,
      "outputs": []
    },
    {
      "cell_type": "code",
      "metadata": {
        "colab": {
          "base_uri": "https://localhost:8080/",
          "height": 424
        },
        "id": "MADIoDB4DW57",
        "outputId": "db40b0e7-4385-4a73-a062-1b660b888a3a"
      },
      "source": [
        "\n",
        "df"
      ],
      "execution_count": null,
      "outputs": [
        {
          "output_type": "execute_result",
          "data": {
            "text/html": [
              "<div>\n",
              "<style scoped>\n",
              "    .dataframe tbody tr th:only-of-type {\n",
              "        vertical-align: middle;\n",
              "    }\n",
              "\n",
              "    .dataframe tbody tr th {\n",
              "        vertical-align: top;\n",
              "    }\n",
              "\n",
              "    .dataframe thead th {\n",
              "        text-align: right;\n",
              "    }\n",
              "</style>\n",
              "<table border=\"1\" class=\"dataframe\">\n",
              "  <thead>\n",
              "    <tr style=\"text-align: right;\">\n",
              "      <th></th>\n",
              "      <th>spam</th>\n",
              "      <th>thumbnails</th>\n",
              "    </tr>\n",
              "  </thead>\n",
              "  <tbody>\n",
              "    <tr>\n",
              "      <th>0</th>\n",
              "      <td>0</td>\n",
              "      <td>https://i.ytimg.com/vi/OxNy2yDlqN8/maxresdefau...</td>\n",
              "    </tr>\n",
              "    <tr>\n",
              "      <th>1</th>\n",
              "      <td>0</td>\n",
              "      <td>https://i.ytimg.com/vi/7t0EhIrKD2E/maxresdefau...</td>\n",
              "    </tr>\n",
              "    <tr>\n",
              "      <th>2</th>\n",
              "      <td>0</td>\n",
              "      <td>https://i.ytimg.com/vi/TMTqt2EUIfA/hqdefault.jpg</td>\n",
              "    </tr>\n",
              "    <tr>\n",
              "      <th>3</th>\n",
              "      <td>0</td>\n",
              "      <td>https://i.ytimg.com/vi/2wwbvN6zD50/maxresdefau...</td>\n",
              "    </tr>\n",
              "    <tr>\n",
              "      <th>4</th>\n",
              "      <td>0</td>\n",
              "      <td>https://i.ytimg.com/vi/eBr-H_Lr1Xs/hqdefault.jpg</td>\n",
              "    </tr>\n",
              "    <tr>\n",
              "      <th>...</th>\n",
              "      <td>...</td>\n",
              "      <td>...</td>\n",
              "    </tr>\n",
              "    <tr>\n",
              "      <th>804</th>\n",
              "      <td>1</td>\n",
              "      <td>https://i.ytimg.com/vi/wx5wxdRU6Ws/maxresdefau...</td>\n",
              "    </tr>\n",
              "    <tr>\n",
              "      <th>805</th>\n",
              "      <td>1</td>\n",
              "      <td>https://i.ytimg.com/vi/T5_pcusN-nE/hqdefault.jpg</td>\n",
              "    </tr>\n",
              "    <tr>\n",
              "      <th>806</th>\n",
              "      <td>1</td>\n",
              "      <td>https://i.ytimg.com/vi/ib8rfL4fH80/maxresdefau...</td>\n",
              "    </tr>\n",
              "    <tr>\n",
              "      <th>807</th>\n",
              "      <td>0</td>\n",
              "      <td>https://i.ytimg.com/vi/SGagLTYfxms/maxresdefau...</td>\n",
              "    </tr>\n",
              "    <tr>\n",
              "      <th>808</th>\n",
              "      <td>1</td>\n",
              "      <td>https://i.ytimg.com/vi/DWrSMp6TBr8/hqdefault.jpg</td>\n",
              "    </tr>\n",
              "  </tbody>\n",
              "</table>\n",
              "<p>809 rows × 2 columns</p>\n",
              "</div>"
            ],
            "text/plain": [
              "     spam                                         thumbnails\n",
              "0       0  https://i.ytimg.com/vi/OxNy2yDlqN8/maxresdefau...\n",
              "1       0  https://i.ytimg.com/vi/7t0EhIrKD2E/maxresdefau...\n",
              "2       0   https://i.ytimg.com/vi/TMTqt2EUIfA/hqdefault.jpg\n",
              "3       0  https://i.ytimg.com/vi/2wwbvN6zD50/maxresdefau...\n",
              "4       0   https://i.ytimg.com/vi/eBr-H_Lr1Xs/hqdefault.jpg\n",
              "..    ...                                                ...\n",
              "804     1  https://i.ytimg.com/vi/wx5wxdRU6Ws/maxresdefau...\n",
              "805     1   https://i.ytimg.com/vi/T5_pcusN-nE/hqdefault.jpg\n",
              "806     1  https://i.ytimg.com/vi/ib8rfL4fH80/maxresdefau...\n",
              "807     0  https://i.ytimg.com/vi/SGagLTYfxms/maxresdefau...\n",
              "808     1   https://i.ytimg.com/vi/DWrSMp6TBr8/hqdefault.jpg\n",
              "\n",
              "[809 rows x 2 columns]"
            ]
          },
          "metadata": {},
          "execution_count": 149
        }
      ]
    },
    {
      "cell_type": "code",
      "metadata": {
        "id": "uN4DHWatJW03"
      },
      "source": [
        "import enchant\n",
        "d=enchant.Dict(\"en_US\")"
      ],
      "execution_count": null,
      "outputs": []
    },
    {
      "cell_type": "code",
      "metadata": {
        "colab": {
          "base_uri": "https://localhost:8080/",
          "height": 1000
        },
        "id": "Neq3QT3F24x3",
        "outputId": "bba3f8f5-c30b-4580-c7b6-dd3d0a5295e9"
      },
      "source": [
        "for item in os.listdir():\n",
        "  if item[-1]==\"g\":\n",
        "    im = cv2.imread(item, cv2.IMREAD_COLOR)\n",
        "    im = cv2.bitwise_not(im)\n",
        "    filename = 'savedImage.jpg'\n",
        "      \n",
        "    # Using cv2.imwrite() method\n",
        "    # Saving the image\n",
        "    cv2.imwrite(filename, im)\n",
        "    image_path_in_colab=\"savedImage.jpg\"\n",
        "    extract = pytesseract.image_to_string(Image.open(image_path_in_colab))\n",
        "    words=[]\n",
        "    for item in extract.split(\" \"):\n",
        "      if item:\n",
        "        if d.check(item):\n",
        "          words.append(item)\n",
        "    print(words)\n",
        "    plt.clf()"
      ],
      "execution_count": null,
      "outputs": [
        {
          "output_type": "stream",
          "name": "stdout",
          "text": [
            "[]\n",
            "[]\n",
            "[]\n",
            "['MAKE']\n",
            "[]\n",
            "[]\n",
            "[]\n",
            "[]\n",
            "['business', '2013', 'Mar', '2014', 'ea', 'tone']\n",
            "['Your', 'estimated', '7', 'days', 'estimated', 'revenue', 'Aug', '24', 'Aug', '20', '21']\n",
            "[]\n",
            "[]\n",
            "[]\n",
            "[]\n",
            "[]\n",
            "['9']\n",
            "[]\n",
            "[]\n",
            "['REVIEW']\n",
            "[]\n",
            "[]\n",
            "['eel']\n",
            "[]\n",
            "[]\n",
            "['Giveaway', 'a', 'Comment', 'to']\n",
            "[]\n",
            "[]\n",
            "[]\n",
            "['BASKET']\n",
            "[]\n",
            "['SUBSCRIBER']\n",
            "[]\n",
            "['Elapsed', 'are', 'Games', 'are']\n",
            "[]\n",
            "[]\n",
            "[]\n",
            "['of', 'THIS']\n",
            "['Best', 'Free', 'Trick']\n",
            "[]\n",
            "['US', 'i', 'ls', 'Mae', 'i', 'met', 'Is', 'st', 'eats', 'Or', 'you', 'want', 'to', 'trade']\n",
            "[]\n",
            "['T']\n",
            "[]\n",
            "['i-M', 'Y', 'to', 'YouTube', 'Tech', 'Y', 'Of', 'Y', '1,000']\n",
            "[]\n",
            "[]\n",
            "[]\n",
            "[]\n",
            "[]\n",
            "['yea', '4', 'Net', 'Rabin', 'now', 'ma']\n",
            "['GIVE', 'OR']\n",
            "[]\n",
            "['Spinning']\n",
            "[]\n",
            "[]\n",
            "[]\n",
            "[]\n",
            "[]\n",
            "[]\n",
            "[]\n",
            "[]\n",
            "['This', 'Detects']\n",
            "[]\n",
            "['a', 'April', 'Cara']\n",
            "['visit', 'use', 'Gift', 'Cards', 'for', 'payment', 'outside', 'of', 'NU', 'AM', 'MON', 'or', 'except', 'as', 'required', 'by', 'law.', 'See', 'full', 'r', 'emcee', '79307', '532114']\n",
            "[]\n",
            "[]\n",
            "[]\n",
            "[]\n",
            "['UNNECESSARY', 'THAT']\n",
            "[]\n",
            "[]\n",
            "['4']\n",
            "[]\n",
            "[]\n",
            "['KITCHEN']\n",
            "[]\n",
            "[]\n",
            "[]\n",
            "[]\n",
            "[]\n",
            "['1ST', 'HOLIDAY', 'GIFT', 'CARD', 'HEARD', 'GIFT', 'CARD', 'UP', 'FOR']\n",
            "[]\n",
            "['1', 'My', 'x', 'SECURE']\n",
            "[]\n",
            "[]\n",
            "[]\n",
            "[]\n",
            "[]\n",
            "[]\n",
            "[]\n",
            "[]\n",
            "[]\n",
            "[]\n",
            "[]\n",
            "[]\n",
            "[]\n",
            "[]\n",
            "[]\n",
            "[]\n",
            "[]\n",
            "[]\n",
            "[]\n",
            "[]\n"
          ]
        },
        {
          "output_type": "display_data",
          "data": {
            "text/plain": [
              "<Figure size 432x288 with 0 Axes>"
            ]
          },
          "metadata": {}
        }
      ]
    },
    {
      "cell_type": "code",
      "metadata": {
        "colab": {
          "base_uri": "https://localhost:8080/",
          "height": 35
        },
        "id": "gGA2l6lW3HYY",
        "outputId": "64610f93-ec12-416a-8c8e-f0b883c4655b"
      },
      "source": [
        "extract."
      ],
      "execution_count": null,
      "outputs": [
        {
          "output_type": "execute_result",
          "data": {
            "application/vnd.google.colaboratory.intrinsic+json": {
              "type": "string"
            },
            "text/plain": [
              "' \\n\\x0c'"
            ]
          },
          "metadata": {},
          "execution_count": 114
        }
      ]
    },
    {
      "cell_type": "code",
      "metadata": {
        "id": "acZ7_e7J-U47"
      },
      "source": [
        "from PIL import Image\n",
        "img = Image.open('savedImage.jpg').convert('L')\n",
        "img.save('savedImage.jpg')"
      ],
      "execution_count": null,
      "outputs": []
    },
    {
      "cell_type": "code",
      "metadata": {
        "id": "pEPJiesv3Ja9"
      },
      "source": [
        "from PIL import Image, ImageEnhance\n",
        "\n",
        "file = \"C://Users/ABC/20.jpg\"\n",
        "img = Image.open(file)\n",
        "img.show()"
      ],
      "execution_count": null,
      "outputs": []
    }
  ]
}